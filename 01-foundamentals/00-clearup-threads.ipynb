{
 "cells": [
  {
   "cell_type": "markdown",
   "id": "22738336",
   "metadata": {},
   "source": [
    "## Show a warning for removing all the project threads"
   ]
  },
  {
   "cell_type": "code",
   "execution_count": 1,
   "id": "d124c67d",
   "metadata": {},
   "outputs": [],
   "source": [
    "# raise Exception(f\"You will remove all your project thread permanently.\\nComment this line to proceed, if you know what you are doing!\")"
   ]
  },
  {
   "cell_type": "code",
   "execution_count": 14,
   "id": "94b0f60d",
   "metadata": {},
   "outputs": [
    {
     "name": "stdout",
     "output_type": "stream",
     "text": [
      "Environment and authentication OK\n"
     ]
    }
   ],
   "source": [
    "from dotenv import load_dotenv\n",
    "\n",
    "# load environment variables from .env file\n",
    "load_dotenv(dotenv_path=\".env\", override=True)\n",
    "\n",
    "from utils.fdyauth import AuthHelper\n",
    "settings = AuthHelper.load_settings()\n",
    "credential = AuthHelper.test_credential()\n",
    "\n",
    "if credential:\n",
    "    print('Environment and authentication OK')\n",
    "else:\n",
    "    print(\"please login first\")"
   ]
  },
  {
   "cell_type": "code",
   "execution_count": 15,
   "id": "fb18f4e6",
   "metadata": {},
   "outputs": [
    {
     "name": "stdout",
     "output_type": "stream",
     "text": [
      "project_client api version: 2025-05-15-preview\n",
      "azure-ai-agents version: 1.1.0b4\n",
      "azure-ai-projects version: 1.0.0b12\n"
     ]
    }
   ],
   "source": [
    "from azure.ai.projects import AIProjectClient\n",
    "from azure.core.exceptions import ResourceNotFoundError\n",
    "import azure.ai.agents as agentslib\n",
    "import azure.ai.projects as projectlib\n",
    "\n",
    "project_client = AIProjectClient(\n",
    "    credential=credential,\n",
    "    endpoint=settings.project_endpoint,\n",
    "    api_version=settings.project_api_version\n",
    ")\n",
    "print(\"project_client api version:\", project_client._config.api_version)\n",
    "print(f\"azure-ai-agents version: {agentslib.__version__}\")\n",
    "print(f\"azure-ai-projects version: {projectlib.__version__}\")"
   ]
  },
  {
   "cell_type": "code",
   "execution_count": 16,
   "id": "47fbaad6",
   "metadata": {},
   "outputs": [
    {
     "name": "stdout",
     "output_type": "stream",
     "text": [
      "total threads: 0\n"
     ]
    }
   ],
   "source": [
    "threads = project_client.agents.threads.list()\n",
    "threads_count = 0\n",
    "for thread in threads:\n",
    "    threads_count += 1\n",
    "    # print(f\"Thread ID: {thread.id}, Created At: {thread.created_at}\")\n",
    "print(f\"total threads: {threads_count}\")"
   ]
  },
  {
   "cell_type": "markdown",
   "id": "2f1c0b8c",
   "metadata": {},
   "source": [
    "### ResourceNotFoundError\n",
    "\n",
    "Note:\n",
    "* If the ResourceNotFoundError occurs, the notebook thread will be breaken, since there is an async raise in the sdk. You can not catch it.\n",
    "* Just rerun the code to clean the threads. The not available thread will be removed from list anyway."
   ]
  },
  {
   "cell_type": "code",
   "execution_count": null,
   "id": "80c56fc6",
   "metadata": {},
   "outputs": [
    {
     "name": "stdout",
     "output_type": "stream",
     "text": [
      "Found 0 threads to process\n",
      "\n",
      "Summary:\n",
      "Deleted threads: 0\n",
      "Threads not found: 0\n"
     ]
    }
   ],
   "source": [
    "# Collect thread IDs first to avoid iteration issues with lazy loading\n",
    "thread_ids = []\n",
    "try:\n",
    "    threads = project_client.agents.threads.list()\n",
    "    for thread in threads:\n",
    "        thread_ids.append(thread.id)\n",
    "except ResourceNotFoundError as e:\n",
    "    print(f\"Warning: Some threads may no longer exist: {e}\")\n",
    "\n",
    "deleted_threads_count = 0\n",
    "not_found_count = 0\n",
    "not_found_threads = []\n",
    "\n",
    "print(f\"Found {len(thread_ids)} threads to process\")\n",
    "\n",
    "# Now delete each thread by ID\n",
    "for thread_id in thread_ids:\n",
    "    try:\n",
    "        # sync call\n",
    "        project_client.agents.threads.delete(thread_id)\n",
    "        deleted_threads_count += 1\n",
    "        print(f\"Deleted thread: {thread_id}\")\n",
    "    except ResourceNotFoundError:\n",
    "        not_found_count += 1\n",
    "        not_found_threads.append(thread_id)\n",
    "        print(f\"Thread not found (already deleted?): {thread_id}\")\n",
    "    except Exception as e:\n",
    "        print(f\"Failed to delete thread {thread_id}: {e}\")\n",
    "\n",
    "print(f\"\\nSummary:\")\n",
    "print(f\"Deleted threads: {deleted_threads_count}\")\n",
    "print(f\"Threads not found: {not_found_count}\")"
   ]
  },
  {
   "cell_type": "code",
   "execution_count": null,
   "id": "340546c5",
   "metadata": {},
   "outputs": [],
   "source": []
  }
 ],
 "metadata": {
  "kernelspec": {
   "display_name": "azfdydemo3.12pip",
   "language": "python",
   "name": "python3"
  },
  "language_info": {
   "codemirror_mode": {
    "name": "ipython",
    "version": 3
   },
   "file_extension": ".py",
   "mimetype": "text/x-python",
   "name": "python",
   "nbconvert_exporter": "python",
   "pygments_lexer": "ipython3",
   "version": "3.12.10"
  }
 },
 "nbformat": 4,
 "nbformat_minor": 5
}
