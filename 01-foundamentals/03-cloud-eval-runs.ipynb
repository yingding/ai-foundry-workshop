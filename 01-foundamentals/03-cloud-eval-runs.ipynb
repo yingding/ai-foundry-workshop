{
 "cells": [
  {
   "cell_type": "markdown",
   "metadata": {},
   "source": [
    "# Evaluate AI agents of Foundry Agent Services"
   ]
  },
  {
   "cell_type": "markdown",
   "metadata": {},
   "source": [
    "## Objective\n",
    "\n",
    "\n",
    "This sample demonstrates how to evaluate an AI agent (Azure AI Agent Service) on these important aspects of your agentic workflow:\n",
    "\n",
    "- Intent Resolution: Measures how well the agent identifies the user’s request, including how well it scopes the user’s intent, asks clarifying questions, and reminds end users of its scope of capabilities.\n",
    "\n",
    "For AI agents outside of Azure AI Agent Service, you can still provide th agent data in the two formats (either simple data or agent messages) specified in the individual evaluator samples:\n",
    "- [Intent resolution](https://aka.ms/intentresolution-sample)\n",
    "<!--\n",
    "- [Tool call accuracy](https://aka.ms/toolcallaccuracy-sample)\n",
    "- [Task adherence](https://aka.ms/taskadherence-sample)\n",
    "- [Response Completeness](https://aka.ms/rescompleteness-sample)\n",
    "-->\n",
    "\n",
    "\n",
    "## Time \n",
    "\n",
    "You should expect to spend about 20 minutes running this notebook. \n",
    "\n",
    "## Before you begin\n",
    "Creating an agent using Azure AI agent service requires an Azure AI Foundry project and a deployed, supported model. See more details in [Create a new agent](https://learn.microsoft.com/azure/ai-services/agents/quickstart?pivots=ai-foundry-portal).\n",
    "\n",
    "For quality evaluation, you need to deploy a `gpt` model supporting JSON mode. We recommend a model `gpt-4o` or `gpt-4o-mini` for their strong reasoning capabilities.    \n",
    "\n",
    "Important: Make sure to authenticate to Azure using `az login` in your terminal before running this notebook.\n",
    "\n",
    "### Prerequisite\n",
    "\n",
    "Before running the sample:\n",
    "```bash\n",
    "pip install azure-ai-projects azure-identity azure-ai-evaluation\n",
    "```"
   ]
  },
  {
   "cell_type": "markdown",
   "metadata": {},
   "source": [
    "### Setup Azure credentials and project \n",
    "1. use az cli to login to the tenant with your credential\n",
    "\n",
    "<!-- initializing Project Client -->"
   ]
  },
  {
   "cell_type": "code",
   "execution_count": 1,
   "metadata": {},
   "outputs": [
    {
     "name": "stdout",
     "output_type": "stream",
     "text": [
      "Environment and authentication OK\n"
     ]
    }
   ],
   "source": [
    "from dotenv import load_dotenv\n",
    "\n",
    "# load environment variables from .env file\n",
    "load_dotenv(dotenv_path=\".env\", override=True)\n",
    "\n",
    "from utils.fdyauth import AuthHelper\n",
    "settings = AuthHelper.load_settings()\n",
    "credential = AuthHelper.test_credential()\n",
    "\n",
    "if credential:\n",
    "    print('Environment and authentication OK')\n",
    "else:\n",
    "    print(\"please login first\")"
   ]
  },
  {
   "cell_type": "code",
   "execution_count": 2,
   "metadata": {},
   "outputs": [
    {
     "name": "stdout",
     "output_type": "stream",
     "text": [
      "project_client api version: 2025-05-15-preview\n",
      "azure-ai-agents version: 1.1.0b3\n",
      "azure-ai-projects version: 1.0.0b12\n"
     ]
    }
   ],
   "source": [
    "import os\n",
    "import azure.ai.agents as agentslib\n",
    "import azure.ai.projects as projectlib\n",
    "from azure.ai.projects import AIProjectClient\n",
    "from azure.ai.projects.models import (\n",
    "    AgentEvaluationRequest,\n",
    "    InputDataset,\n",
    "    EvaluatorIds,\n",
    "    EvaluatorConfiguration,\n",
    "    AgentEvaluationSamplingConfiguration,\n",
    "    AgentEvaluationRedactionConfiguration,\n",
    "    Evaluation,\n",
    "    DatasetVersion,\n",
    "    FileDatasetVersion,\n",
    ")\n",
    "from azure.ai.agents.models import (\n",
    "    FunctionTool,\n",
    "    ToolSet,\n",
    "    MessageRole,\n",
    ")\n",
    "\n",
    "# Import your custom functions to be used as Tools for the Agent\n",
    "from utils.user_functions import user_functions\n",
    "\n",
    "# Initialize project client with proper authentication\n",
    "project_client = AIProjectClient(\n",
    "    credential=credential,  # Use the credential from earlier setup\n",
    "    endpoint=settings.project_endpoint\n",
    ")\n",
    "print(\"project_client api version:\", project_client._config.api_version)\n",
    "print(f\"azure-ai-agents version: {agentslib.__version__}\")\n",
    "print(f\"azure-ai-projects version: {projectlib.__version__}\")\n",
    "\n",
    "AGENT_NAME = \"Seattle Tourist Agent\"\n",
    "AGENT_INSTRUCTIONS = \"\"\"You are a helpful tourist assistant\"\"\"\n",
    "\n",
    "# Add Tools to be used by Agent\n",
    "functions = FunctionTool(user_functions)\n",
    "\n",
    "toolset = ToolSet()\n",
    "toolset.add(functions)\n",
    "\n",
    "# To enable tool calls executed automatically\n",
    "project_client.agents.enable_auto_function_calls(tools=toolset, max_retry=4)"
   ]
  },
  {
   "cell_type": "markdown",
   "metadata": {},
   "source": [
    "### Create an AI agent (Azure AI Agent Service)"
   ]
  },
  {
   "cell_type": "code",
   "execution_count": 3,
   "metadata": {},
   "outputs": [
    {
     "name": "stdout",
     "output_type": "stream",
     "text": [
      "reusing agent > Seattle Tourist Agent (id: asst_rs0qLwEnvDVyoxWkp740d8S8)\n"
     ]
    }
   ],
   "source": [
    "found_agent = None\n",
    "all_agents_list = project_client.agents.list_agents()\n",
    "for a in all_agents_list:\n",
    "    if a.name == AGENT_NAME:\n",
    "        found_agent = a\n",
    "        break\n",
    "\n",
    "if found_agent:\n",
    "    agent = project_client.agents.update_agent(\n",
    "        agent_id=found_agent.id,\n",
    "        model=settings.model_deployment_name,\n",
    "        instructions=AGENT_INSTRUCTIONS,\n",
    "        toolset=toolset,\n",
    "    )\n",
    "    project_client.agents.enable_auto_function_calls(tools=toolset, max_retry=4) \n",
    "    print(f\"reusing agent > {agent.name} (id: {agent.id})\")\n",
    "else:\n",
    "    agent = project_client.agents.create_agent(\n",
    "        model=settings.model_deployment_name,\n",
    "        name=AGENT_NAME,\n",
    "        instructions=AGENT_INSTRUCTIONS,\n",
    "        toolset=toolset,\n",
    "    )\n",
    "    print(f\"Created agent '{AGENT_NAME}' with {len(functions._functions)} tools\\nID: {agent.id}\")"
   ]
  },
  {
   "cell_type": "markdown",
   "metadata": {},
   "source": [
    "## Conversation with Agent\n",
    "Use below cells to have conversation with the agent\n",
    "1. `Create a thread`\n",
    "2. `Create Message`\n",
    "3. `Execute`"
   ]
  },
  {
   "cell_type": "markdown",
   "metadata": {},
   "source": [
    "### Create Thread - 1"
   ]
  },
  {
   "cell_type": "code",
   "execution_count": 4,
   "metadata": {},
   "outputs": [
    {
     "name": "stdout",
     "output_type": "stream",
     "text": [
      "Created thread, ID: thread_Hc4xPeFUMmlbvAXT2YKjT9ut\n"
     ]
    }
   ],
   "source": [
    "thread = project_client.agents.threads.create()\n",
    "print(f\"Created thread, ID: {thread.id}\")"
   ]
  },
  {
   "cell_type": "markdown",
   "metadata": {},
   "source": [
    "### Create Message - 2"
   ]
  },
  {
   "cell_type": "code",
   "execution_count": 5,
   "metadata": {},
   "outputs": [
    {
     "name": "stdout",
     "output_type": "stream",
     "text": [
      "Created message, ID: msg_hzfj7gp5Kdrj7mteNKp61HgD\n"
     ]
    }
   ],
   "source": [
    "# Create a new user message and add it to the thread (state)\n",
    "MESSAGE = \"Can you email me weather info for Seattle ? My email is user@microsoft.com.\"\n",
    "# MESSAGE = \"Can you email me weather info for Seattle ?\"\n",
    "\n",
    "message = project_client.agents.messages.create(\n",
    "    thread_id=thread.id,\n",
    "    role=MessageRole.USER,\n",
    "    content=MESSAGE,\n",
    ")\n",
    "print(f\"Created message, ID: {message.id}\")"
   ]
  },
  {
   "cell_type": "markdown",
   "metadata": {},
   "source": [
    "### Execute - 3"
   ]
  },
  {
   "cell_type": "code",
   "execution_count": 6,
   "metadata": {},
   "outputs": [
    {
     "name": "stdout",
     "output_type": "stream",
     "text": [
      "Sending email to user@microsoft.com...\n",
      "Subject: Seattle Weather Information\n",
      "Body:\n",
      "The current weather in Seattle is rainy with a temperature of 14°C.\n",
      "Run finished with status: RunStatus.COMPLETED\n",
      "Run ID: run_UYcG3wtYPvo519DlXw5u2aQ0\n"
     ]
    }
   ],
   "source": [
    "run = project_client.agents.runs.create_and_process(thread_id=thread.id, agent_id=agent.id)\n",
    "\n",
    "print(f\"Run finished with status: {run.status}\")\n",
    "\n",
    "if run.status == \"failed\":\n",
    "    print(f\"Run failed: {run.last_error}\")\n",
    "\n",
    "print(f\"Run ID: {run.id}\")"
   ]
  },
  {
   "cell_type": "markdown",
   "metadata": {},
   "source": [
    "### List Messages"
   ]
  },
  {
   "cell_type": "code",
   "execution_count": 7,
   "metadata": {},
   "outputs": [
    {
     "name": "stdout",
     "output_type": "stream",
     "text": [
      "Role: MessageRole.USER\n",
      "Content: Can you email me weather info for Seattle ? My email is user@microsoft.com.\n",
      "----------------------------------------\n",
      "Role: MessageRole.AGENT\n",
      "Content: I have emailed you the weather information for Seattle. If you need any more details or assistance, feel free to ask!\n",
      "----------------------------------------\n"
     ]
    }
   ],
   "source": [
    "for message in project_client.agents.messages.list(thread.id, order=\"asc\"):\n",
    "    print(f\"Role: {message.role}\")\n",
    "    print(f\"Content: {message.content[0].text.value}\")\n",
    "    print(\"-\" * 40)"
   ]
  },
  {
   "cell_type": "markdown",
   "metadata": {},
   "source": [
    "# Evaluate"
   ]
  },
  {
   "cell_type": "markdown",
   "metadata": {},
   "source": [
    "### Evaluation in the cloud\n",
    "\n",
    "Reference:\n",
    "* https://learn.microsoft.com/en-us/azure/ai-foundry/how-to/develop/cloud-evaluation\n",
    "* https://learn.microsoft.com/en-us/azure/ai-foundry/how-to/develop/cloud-evaluation#prerequisite-set-up-steps-for-azure-ai-foundry-projects\n",
    "\n",
    "For the Microsoft Entra ID, give MSI (Microsoft Identity) permissions for \"Storage Blob Data Owner\" through IAM to both\n",
    "* `User, group, or service principal` \"EntraID user\" and\n",
    "* `Managed Identity` by adding the Role its `Azure AI Foundry Project`\n",
    "from the storage account IAM.\n",
    "* And make sure to choose \"Share to all project\" while adding the storage account connection to the Azure AI Foundry Project v2\n",
    "* Blob Storage need to have public network access, so that foundry project can upload the blob file\n",
    "\n",
    "<!--\n",
    "Adding additional `Azure AI Administrator Role` to the Microsoft EntraID User for the `Azure AI Foundry Resource`\n",
    "\n",
    "* `Managed Identity` by adding the Role to both `Azure AI Foundry Resource` and its `Azure AI Foundry Project`\n",
    "from the storage account IAM.\n",
    "-->"
   ]
  },
  {
   "cell_type": "markdown",
   "metadata": {},
   "source": [
    "### Prepare the data from agent response for evaluation\n",
    "\n",
    "Reference:\n",
    "* https://learn.microsoft.com/en-us/azure/ai-foundry/how-to/develop/agent-evaluate-sdk#evaluate-azure-ai-agents"
   ]
  },
  {
   "cell_type": "code",
   "execution_count": 8,
   "metadata": {},
   "outputs": [
    {
     "name": "stderr",
     "output_type": "stream",
     "text": [
      "Class AIAgentConverter: This is an experimental class, and may change at any time. Please see https://aka.ms/azuremlexperimental for more information.\n",
      "Class FDPAgentDataRetriever: This is an experimental class, and may change at any time. Please see https://aka.ms/azuremlexperimental for more information.\n",
      "Class AIAgentDataRetriever: This is an experimental class, and may change at any time. Please see https://aka.ms/azuremlexperimental for more information.\n"
     ]
    },
    {
     "name": "stdout",
     "output_type": "stream",
     "text": [
      "{'query': [{'role': 'system', 'content': 'You are a helpful tourist assistant'}, {'createdAt': '2025-07-07T12:22:21Z', 'role': 'user', 'content': [{'type': 'text', 'text': 'Can you email me weather info for Seattle ? My email is user@microsoft.com.'}]}], 'response': [{'createdAt': '2025-07-07T12:22:24Z', 'run_id': 'run_UYcG3wtYPvo519DlXw5u2aQ0', 'role': 'assistant', 'content': [{'type': 'tool_call', 'tool_call_id': 'call_rAt71pOfRXIiMLDfrqnlA4z1', 'name': 'fetch_weather', 'arguments': {'location': 'Seattle'}}]}, {'createdAt': '2025-07-07T12:22:26Z', 'run_id': 'run_UYcG3wtYPvo519DlXw5u2aQ0', 'tool_call_id': 'call_rAt71pOfRXIiMLDfrqnlA4z1', 'role': 'tool', 'content': [{'type': 'tool_result', 'tool_result': {'weather': 'Rainy, 14°C'}}]}, {'createdAt': '2025-07-07T12:22:27Z', 'run_id': 'run_UYcG3wtYPvo519DlXw5u2aQ0', 'role': 'assistant', 'content': [{'type': 'tool_call', 'tool_call_id': 'call_RMeAFhI2XfuDSDpknNADyVjP', 'name': 'send_email', 'arguments': {'recipient': 'user@microsoft.com', 'subject': 'Seattle Weather Information', 'body': 'The current weather in Seattle is rainy with a temperature of 14°C.'}}]}, {'createdAt': '2025-07-07T12:22:28Z', 'run_id': 'run_UYcG3wtYPvo519DlXw5u2aQ0', 'tool_call_id': 'call_RMeAFhI2XfuDSDpknNADyVjP', 'role': 'tool', 'content': [{'type': 'tool_result', 'tool_result': {'message': 'Email successfully sent to user@microsoft.com.'}}]}, {'createdAt': '2025-07-07T12:22:29Z', 'run_id': 'run_UYcG3wtYPvo519DlXw5u2aQ0', 'role': 'assistant', 'content': [{'type': 'text', 'text': 'I have emailed you the weather information for Seattle. If you need any more details or assistance, feel free to ask!'}]}], 'tool_definitions': [{'name': 'get_user_info', 'type': 'function', 'description': 'Retrieves user information based on user ID.', 'parameters': {'type': 'object', 'properties': {'user_id': {'type': 'integer', 'description': 'ID of the user.'}}}}, {'name': 'convert_temperature', 'type': 'function', 'description': 'Converts temperature from Celsius to Fahrenheit.', 'parameters': {'type': 'object', 'properties': {'celsius': {'type': 'number', 'description': 'Temperature in Celsius.'}}}}, {'name': 'send_email', 'type': 'function', 'description': 'Sends an email with the specified subject and body to the recipient.', 'parameters': {'type': 'object', 'properties': {'recipient': {'type': 'string', 'description': 'Email address of the recipient.'}, 'subject': {'type': 'string', 'description': 'Subject of the email.'}, 'body': {'type': 'string', 'description': 'Body content of the email.'}}}}, {'name': 'longest_word_in_sentences', 'type': 'function', 'description': 'Finds the longest word in each sentence.', 'parameters': {'type': 'object', 'properties': {'sentences': {'type': 'array', 'items': {'type': 'string'}, 'description': 'A list of sentences.'}}}}, {'name': 'merge_dicts', 'type': 'function', 'description': 'Merges two dictionaries.', 'parameters': {'type': 'object', 'properties': {'dict1': {'type': 'object', 'description': 'First dictionary.'}, 'dict2': {'type': 'object', 'description': 'Second dictionary.'}}}}, {'name': 'toggle_flag', 'type': 'function', 'description': 'Toggles a boolean flag.', 'parameters': {'type': 'object', 'properties': {'flag': {'type': 'boolean', 'description': 'The flag to toggle.'}}}}, {'name': 'fetch_weather', 'type': 'function', 'description': 'Fetches the weather information for the specified location.', 'parameters': {'type': 'object', 'properties': {'location': {'type': 'string', 'description': 'The location to fetch weather for.'}}}}, {'name': 'process_records', 'type': 'function', 'description': 'Process a list of records, where each record is a dictionary with string keys and integer values.', 'parameters': {'type': 'object', 'properties': {'records': {'type': 'array', 'items': {'type': 'object'}, 'description': 'A list containing dictionaries that map strings to integers.'}}}}, {'name': 'fetch_current_datetime', 'type': 'function', 'description': 'Get the current time as a JSON string, optionally formatted.', 'parameters': {'type': 'object', 'properties': {'format': {'type': ['string', 'null'], 'description': 'The format in which to return the current time. Defaults to None, which uses a standard format.'}}}}, {'name': 'calculate_sum', 'type': 'function', 'description': 'Calculates the sum of two integers.', 'parameters': {'type': 'object', 'properties': {'a': {'type': 'integer', 'description': 'First integer.'}, 'b': {'type': 'integer', 'description': 'Second integer.'}}}}, {'name': 'opening_hours', 'type': 'function', 'description': 'Fetches the opening hours of a tourist destination in Seattle.', 'parameters': {'type': 'object', 'properties': {'tourist_destination': {'type': 'string', 'description': 'The tourist destination to fetch opening hours for.'}}}}]}\n"
     ]
    }
   ],
   "source": [
    "from azure.ai.evaluation import AIAgentConverter\n",
    "import json\n",
    "\n",
    "# Initialize the converter that will be backed by the project.\n",
    "converter = AIAgentConverter(project_client)\n",
    "\n",
    "thread_id = thread.id\n",
    "run_id = run.id\n",
    "\n",
    "# Get a single agent run data for evaluation\n",
    "single_agent_eval_input_data = converter.convert(thread_id=thread_id, run_id=run_id)\n",
    "\n",
    "# make folder\n",
    "dir_path = os.path.join(os.getcwd(), \"data\")\n",
    "if not os.path.exists(dir_path):\n",
    "    os.makedirs(dir_path)\n",
    "\n",
    "# Save the agent run data to a JSONL file\n",
    "# eval_file_name = f\"single_agent_eval_{thread_id}_{run_id}.jsonl\"\n",
    "eval_file_name = f\"singleagentrun.jsonl\"\n",
    "eval_file_path = os.path.join(os.getcwd(), \"data\", eval_file_name)\n",
    "\n",
    "print(single_agent_eval_input_data)"
   ]
  },
  {
   "cell_type": "code",
   "execution_count": 9,
   "metadata": {},
   "outputs": [
    {
     "data": {
      "text/plain": [
       "{'query': 'Can you email me weather info for Seattle ? My email is user@microsoft.com.',\n",
       " 'ground_truth': 'yes, I mailed you the weather info for Seattle',\n",
       " 'response': 'I have emailed you the weather information for Seattle. If you need any more details or assistance, feel free to ask!',\n",
       " 'context': 'You are a helpful tourist assistant',\n",
       " 'latency': 8.5,\n",
       " 'response_length': 117}"
      ]
     },
     "execution_count": 9,
     "metadata": {},
     "output_type": "execute_result"
    }
   ],
   "source": [
    "from utils.converter import extract_agent_data\n",
    "eval_input = extract_agent_data(single_agent_eval_input_data, ground_truth=\"yes, I mailed you the weather info for Seattle\")\n",
    "eval_input"
   ]
  },
  {
   "cell_type": "code",
   "execution_count": 10,
   "metadata": {},
   "outputs": [],
   "source": [
    "# save the the whole object of single_agent_eval_input_data to the eval_file_path as jsonl entry\n",
    "# how to append to existing file\n",
    "with open(eval_file_path, \"w\") as f:\n",
    "    f.write(json.dumps(eval_input))"
   ]
  },
  {
   "cell_type": "markdown",
   "metadata": {},
   "source": [
    "### AI Foundry Cloud Evaluation"
   ]
  },
  {
   "cell_type": "code",
   "execution_count": 11,
   "metadata": {},
   "outputs": [],
   "source": [
    "# generate a timestamp of now\n",
    "import datetime\n",
    "timestamp = datetime.datetime.now().strftime(\"%Y%m%d%H%M%S\")"
   ]
  },
  {
   "cell_type": "code",
   "execution_count": 12,
   "metadata": {},
   "outputs": [
    {
     "name": "stdout",
     "output_type": "stream",
     "text": [
      "Upload a single file and create a new Dataset to reference the file.\n",
      "Dataset: singleagent-20250707135213, Version: 1.0, ID: azureai://accounts/foundry-proj-yw-uno-resource/projects/foundry-proj-yw-uno/data/singleagent-20250707135213/versions/1.0\n",
      "Dataset: singleagent-20250707132440, Version: 1.0, ID: azureai://accounts/foundry-proj-yw-uno-resource/projects/foundry-proj-yw-uno/data/singleagent-20250707132440/versions/1.0\n",
      "Dataset: singleagent-20250707130907, Version: 1.0, ID: azureai://accounts/foundry-proj-yw-uno-resource/projects/foundry-proj-yw-uno/data/singleagent-20250707130907/versions/1.0\n",
      "Dataset: singleagentdemo1, Version: 1.0, ID: azureai://accounts/foundry-proj-yw-uno-resource/projects/foundry-proj-yw-uno/data/singleagentdemo1/versions/1.0\n",
      "Dataset: sigleagentrun, Version: 1.0, ID: azureai://accounts/foundry-proj-yw-uno-resource/projects/foundry-proj-yw-uno/data/sigleagentrun/versions/1.0\n",
      "Dataset: tourist-single-agent-dataset-1, Version: 2.0, ID: azureai://accounts/foundry-proj-yw-uno-resource/projects/foundry-proj-yw-uno/data/tourist-single-agent-dataset-1/versions/2.0\n",
      "Dataset: eval-data-2025-06-25_215535_UTC, Version: 1, ID: azureai://accounts/foundry-proj-yw-uno-resource/projects/foundry-proj-yw-uno/data/eval-data-2025-06-25_215535_UTC/versions/1\n",
      "Dataset: tourist-test-dataset, Version: 1.0, ID: azureai://accounts/foundry-proj-yw-uno-resource/projects/foundry-proj-yw-uno/data/tourist-test-dataset/versions/1.0\n",
      "Dataset: eval-data-2025-06-25_213617_UTC, Version: 1, ID: azureai://accounts/foundry-proj-yw-uno-resource/projects/foundry-proj-yw-uno/data/eval-data-2025-06-25_213617_UTC/versions/1\n",
      "{'id': 'azureai://accounts/foundry-proj-yw-uno-resource/projects/foundry-proj-yw-uno/data/singleagent-20250707142357/versions/1.0', 'name': 'singleagent-20250707142357', 'version': '1.0', 'displayName': 'singleagent-20250707142357', 'description': None, 'tags': {}, 'type': 'uri_file', 'isReference': False, 'dataUri': 'https://stacctaievalywuno.blob.core.windows.net/foundry-pr-24786c79-8e30-5456-9bfb-da422b1cbdca/singleagentrun.jsonl', 'connectionName': None, 'systemData': {'createdAt': '2025-07-07T12:24:04.4999105+00:00', 'createdBy': 'Yingding Wang', 'createdByType': None, 'lastModifiedAt': '2025-07-07T12:24:04.4999105+00:00'}}\n"
     ]
    }
   ],
   "source": [
    "print(\"Upload a single file and create a new Dataset to reference the file.\")\n",
    "dataset_name = f\"singleagent-{timestamp}\"\n",
    "dataset_version = \"1.0\"\n",
    "\n",
    "existing_datasets = project_client.datasets.list()\n",
    "map = {}\n",
    "for dataset in existing_datasets:\n",
    "    # print(f\"Dataset:{dataset}\")\n",
    "    print(f\"Dataset: {dataset.name}, Version: {dataset.version}, ID: {dataset.id}\")\n",
    "    map[dataset.name] = dataset.id\n",
    "\n",
    "if dataset_name in map:\n",
    "    print(f\"Dataset {dataset_name} already exists with ID: {map[dataset_name]}\")\n",
    "    project_client.datasets.delete(name=dataset_name, version=dataset_version)\n",
    "    print(f\"Deleted existing dataset {dataset_name} with version {dataset_version}\")\n",
    "\n",
    "# stacctaievalywuno with IAM role \"storage blob data owner\" for the Azure AI Foundry project and Entra ID principal \n",
    "dataset: DatasetVersion = project_client.datasets.upload_file(\n",
    "    name=dataset_name,\n",
    "    version=dataset_version,\n",
    "    file_path=eval_file_path,\n",
    "    connection_name=\"stacctaievalywuno\"\n",
    ")\n",
    "print(dataset)"
   ]
  },
  {
   "cell_type": "markdown",
   "metadata": {},
   "source": [
    "#### Textual similarity evaluators\n",
    "\n",
    "* https://learn.microsoft.com/en-us/azure/ai-foundry/concepts/evaluation-evaluators/textual-similarity-evaluators"
   ]
  },
  {
   "cell_type": "code",
   "execution_count": null,
   "metadata": {},
   "outputs": [
    {
     "name": "stdout",
     "output_type": "stream",
     "text": [
      "Create an evaluation task\n",
      "{'data': {'id': 'azureai://accounts/foundry-proj-yw-uno-resource/projects/foundry-proj-yw-uno/data/singleagent-20250707142357/versions/1.0', 'type': 'Dataset'}, 'target': None, 'description': 'Evaluation for seattle tourist agent', 'evaluators': {'relevance': {'id': 'azureai://built-in/evaluators/relevance', 'initParams': {'deployment_name': 'gpt-4.1-mini'}, 'dataMapping': {'query': '${data.query}', 'response': '${data.response}'}}, 'violence': {'id': 'azureai://built-in/evaluators/violence', 'initParams': {'azure_ai_project': 'https://foundry-proj-yw-uno-resource.services.ai.azure.com/api/projects/foundry-proj-yw-uno'}, 'dataMapping': {}}, 'bleu_score': {'id': 'azureai://built-in/evaluators/bleu_score', 'initParams': {'threshold': 0.01}, 'dataMapping': {'response': '${data.response}', 'ground_truth': '${data.ground_truth}'}}, 'f1_score': {'id': 'azureai://built-in/evaluators/f1_score', 'initParams': {'threshold': 0.2}, 'dataMapping': {'response': '${data.response}', 'ground_truth': '${data.ground_truth}'}}, 'meteor_score': {'id': 'azureai://built-in/evaluators/meteor_score', 'initParams': {'threshold': 0.4}, 'dataMapping': {'response': '${data.response}', 'ground_truth': '${data.ground_truth}'}}}, 'id': 'fc19f73b-bc2b-4b0c-bec0-49e8f7126322', 'displayName': 'Single Agent Eval 20250707142357', 'tags': {}, 'properties': {'runType': 'eval_run', '_azureml.evaluation_run': 'evaluation.service', '_azureml.evaluate_artifacts': '[{\"path\": \"instance_results.jsonl\", \"type\": \"table\"}]', 'AiStudioEvaluationUri': 'https://ai.azure.com/resource/build/evaluation/fc19f73b-bc2b-4b0c-bec0-49e8f7126322?wsid=/subscriptions/6753a2ee-12b7-4fac-82fa-48824fb58abe/resourceGroups/rg-ai-sandbox-yw-uno/providers/Microsoft.CognitiveServices/accounts/foundry-proj-yw-uno-resource/projects/foundry-proj-yw-uno&tid=787eb5ff-f2ee-4965-8074-edbba3402c84', '_azureml.evaluation_name_map_length': '1', '_azureml.evaluation_name_map_0': '{\"relevance\":\"relevance\",\"violence\":\"violence\",\"bleu_score\":\"bleu_score\",\"f1_score\":\"f1_score\",\"meteor_score\":\"meteor_score\"}'}, 'status': 'NotStarted', 'outputs': {}, 'systemData': {'createdAt': '07/07/2025 12:24:06 +00:00', 'createdBy': 'Yingding Wang', 'modifiedBy': 'Yingding Wang'}}\n",
      "Get evaluation\n",
      "{'data': {'id': 'azureai://accounts/foundry-proj-yw-uno-resource/projects/foundry-proj-yw-uno/data/singleagent-20250707142357/versions/1.0', 'type': 'Dataset'}, 'target': None, 'description': 'Evaluation for seattle tourist agent', 'evaluators': {'relevance': {'id': 'azureai://built-in/evaluators/relevance', 'initParams': {'deployment_name': 'gpt-4.1-mini'}, 'dataMapping': {'query': '${data.query}', 'response': '${data.response}'}}, 'violence': {'id': 'azureai://built-in/evaluators/violence', 'initParams': {'azure_ai_project': 'https://foundry-proj-yw-uno-resource.services.ai.azure.com/api/projects/foundry-proj-yw-uno'}, 'dataMapping': {}}, 'bleu_score': {'id': 'azureai://built-in/evaluators/bleu_score', 'initParams': {'threshold': 0.01}, 'dataMapping': {'response': '${data.response}', 'ground_truth': '${data.ground_truth}'}}, 'f1_score': {'id': 'azureai://built-in/evaluators/f1_score', 'initParams': {'threshold': 0.2}, 'dataMapping': {'response': '${data.response}', 'ground_truth': '${data.ground_truth}'}}, 'meteor_score': {'id': 'azureai://built-in/evaluators/meteor_score', 'initParams': {'threshold': 0.4}, 'dataMapping': {'response': '${data.response}', 'ground_truth': '${data.ground_truth}'}}}, 'id': 'fc19f73b-bc2b-4b0c-bec0-49e8f7126322', 'displayName': 'Single Agent Eval 20250707142357', 'tags': {}, 'properties': {'runType': 'eval_run', '_azureml.evaluation_run': 'evaluation.service', '_azureml.evaluate_artifacts': '[{\"path\": \"instance_results.jsonl\", \"type\": \"table\"}]', 'AiStudioEvaluationUri': 'https://ai.azure.com/resource/build/evaluation/fc19f73b-bc2b-4b0c-bec0-49e8f7126322?wsid=/subscriptions/6753a2ee-12b7-4fac-82fa-48824fb58abe/resourceGroups/rg-ai-sandbox-yw-uno/providers/Microsoft.CognitiveServices/accounts/foundry-proj-yw-uno-resource/projects/foundry-proj-yw-uno&tid=787eb5ff-f2ee-4965-8074-edbba3402c84', '_azureml.evaluation_name_map_length': '1', '_azureml.evaluation_name_map_0': '{\"relevance\":\"relevance\",\"violence\":\"violence\",\"bleu_score\":\"bleu_score\",\"f1_score\":\"f1_score\",\"meteor_score\":\"meteor_score\"}'}, 'status': 'Starting', 'outputs': {'evaluationResultId': ''}, 'systemData': {'createdAt': '07/07/2025 12:24:06 +00:00', 'createdBy': 'Yingding Wang', 'modifiedBy': 'Yingding Wang'}}\n",
      "List evaluations\n",
      "{'data': None, 'target': None, 'description': '', 'evaluators': {'relevance': {'id': 'azureai://built-in/evaluators/relevance', 'initParams': {'deployment_name': 'gpt-4.1-mini'}, 'dataMapping': {'query': '${data.query}', 'response': '${data.response}'}}, 'violence': {'id': 'azureai://built-in/evaluators/violence', 'initParams': {'azure_ai_project': 'https://foundry-proj-yw-uno-resource.services.ai.azure.com/api/projects/foundry-proj-yw-uno'}, 'dataMapping': {}}, 'bleu_score': {'id': 'azureai://built-in/evaluators/bleu_score', 'initParams': {'threshold': 0.01}, 'dataMapping': {'response': '${data.response}', 'ground_truth': '${data.ground_truth}'}}, 'f1_score': {'id': 'azureai://built-in/evaluators/f1_score', 'initParams': {'threshold': 0.2}, 'dataMapping': {'response': '${data.response}', 'ground_truth': '${data.ground_truth}'}}, 'meteor_score': {'id': 'azureai://built-in/evaluators/meteor_score', 'initParams': {'threshold': 0.4}, 'dataMapping': {'response': '${data.response}', 'ground_truth': '${data.ground_truth}'}}}, 'id': '83227c9d-3e02-47cc-abc5-ea197a8f351f', 'displayName': 'Single Agent Eval 20250707135213', 'tags': {}, 'properties': {'runType': 'eval_run', '_azureml.evaluation_run': 'evaluation.service', '_azureml.evaluate_artifacts': '[{\"path\": \"instance_results.jsonl\", \"type\": \"table\"}]', 'AiStudioEvaluationUri': 'https://ai.azure.com/resource/build/evaluation/83227c9d-3e02-47cc-abc5-ea197a8f351f?wsid=/subscriptions/6753a2ee-12b7-4fac-82fa-48824fb58abe/resourceGroups/rg-ai-sandbox-yw-uno/providers/Microsoft.CognitiveServices/accounts/foundry-proj-yw-uno-resource/projects/foundry-proj-yw-uno&tid=787eb5ff-f2ee-4965-8074-edbba3402c84', '_azureml.evaluation_name_map_length': '1', '_azureml.evaluation_name_map_0': '{\"relevance\":\"relevance\",\"violence\":\"violence\",\"bleu_score\":\"bleu_score\",\"f1_score\":\"f1_score\",\"meteor_score\":\"meteor_score\"}'}, 'status': 'Completed', 'outputs': {'evaluationResultId': 'azureai://accounts/foundry-proj-yw-uno-resource/projects/foundry-proj-yw-uno/evaluationresults/eval-result-83227c9d-3e02-47cc-abc5-ea197a8f351f-LEMA/versions/1', 'evaluationMetrics': '{\"relevance.relevance\":4.0,\"relevance.gpt_relevance\":4.0,\"relevance.relevance_threshold\":3.0,\"violence.violence_threshold\":3.0,\"bleu_score.bleu_score\":0.0715236835,\"bleu_score.bleu_threshold\":0.01,\"f1_score.f1_score\":0.3571428571,\"f1_score.f1_threshold\":0.2,\"meteor_score.meteor_score\":0.5021482277,\"meteor_score.meteor_threshold\":0.4,\"violence.violence_defect_rate\":0.0,\"relevance.binary_aggregate\":1.0,\"violence.binary_aggregate\":1.0,\"bleu_score.binary_aggregate\":0.0,\"f1_score.binary_aggregate\":0.0,\"meteor_score.binary_aggregate\":0.0}'}, 'systemData': {'createdAt': '07/07/2025 12:08:57 +00:00', 'createdBy': 'Yingding Wang', 'modifiedBy': 'Yingding Wang'}}\n",
      "{'data': None, 'target': None, 'description': '', 'evaluators': {'relevance': {'id': 'azureai://built-in/evaluators/relevance', 'initParams': {'deployment_name': 'gpt-4.1-mini'}, 'dataMapping': {'query': '${data.query}', 'response': '${data.response}'}}, 'violence': {'id': 'azureai://built-in/evaluators/violence', 'initParams': {'azure_ai_project': 'https://foundry-proj-yw-uno-resource.services.ai.azure.com/api/projects/foundry-proj-yw-uno'}, 'dataMapping': {}}, 'bleu_score': {'id': 'azureai://built-in/evaluators/bleu_score', 'initParams': {'threshold': 0.01}, 'dataMapping': {'response': '${data.response}', 'ground_truth': '${data.ground_truth}'}}, 'f1_score': {'id': 'azureai://built-in/evaluators/f1_score', 'initParams': {'threshold': 0.2}, 'dataMapping': {'response': '${data.response}', 'ground_truth': '${data.ground_truth}'}}, 'meteor_score': {'id': 'azureai://built-in/evaluators/meteor_score', 'initParams': {'threshold': 0.4}, 'dataMapping': {'response': '${data.response}', 'ground_truth': '${data.ground_truth}'}}, 'similarity': {'id': 'azureai://built-in/evaluators/similarity', 'initParams': {'azure_ai_project': 'https://foundry-proj-yw-uno-resource.services.ai.azure.com/api/projects/foundry-proj-yw-uno', 'threshold': 0.4}, 'dataMapping': {'query': '${data.query}', 'response': '${data.response}', 'ground_truth': '${data.ground_truth}'}}}, 'id': '75176e2b-df33-446b-b917-e0a30394d94b', 'displayName': 'Single Agent Eval 20250707135213', 'tags': {}, 'properties': {'runType': 'eval_run', '_azureml.evaluation_run': 'evaluation.service', '_azureml.evaluate_artifacts': '[{\"path\": \"instance_results.jsonl\", \"type\": \"table\"}]', 'AiStudioEvaluationUri': 'https://ai.azure.com/resource/build/evaluation/75176e2b-df33-446b-b917-e0a30394d94b?wsid=/subscriptions/6753a2ee-12b7-4fac-82fa-48824fb58abe/resourceGroups/rg-ai-sandbox-yw-uno/providers/Microsoft.CognitiveServices/accounts/foundry-proj-yw-uno-resource/projects/foundry-proj-yw-uno&tid=787eb5ff-f2ee-4965-8074-edbba3402c84', '_azureml.evaluation_name_map_length': '1', '_azureml.evaluation_name_map_0': '{\"relevance\":\"relevance\",\"violence\":\"violence\",\"bleu_score\":\"bleu_score\",\"f1_score\":\"f1_score\",\"meteor_score\":\"meteor_score\",\"similarity\":\"similarity\"}'}, 'status': 'Failed', 'outputs': {'evaluationResultId': 'azureai://accounts/foundry-proj-yw-uno-resource/projects/foundry-proj-yw-uno/evaluationresults/eval-result-75176e2b-df33-446b-b917-e0a30394d94b-EWWE/versions/1', 'evaluationMetrics': '{}'}, 'systemData': {'createdAt': '07/07/2025 12:06:45 +00:00', 'createdBy': 'Yingding Wang', 'modifiedBy': 'Yingding Wang'}}\n",
      "{'data': None, 'target': None, 'description': '', 'evaluators': {'relevance': {'id': 'azureai://built-in/evaluators/relevance', 'initParams': {'deployment_name': 'gpt-4.1-mini'}, 'dataMapping': {'query': '${data.query}', 'response': '${data.response}'}}, 'violence': {'id': 'azureai://built-in/evaluators/violence', 'initParams': {'azure_ai_project': 'https://foundry-proj-yw-uno-resource.services.ai.azure.com/api/projects/foundry-proj-yw-uno'}, 'dataMapping': {}}, 'bleu_score': {'id': 'azureai://built-in/evaluators/bleu_score', 'initParams': {'threshold': 0.01}, 'dataMapping': {'response': '${data.response}', 'ground_truth': '${data.ground_truth}'}}, 'f1_score': {'id': 'azureai://built-in/evaluators/f1_score', 'initParams': {'threshold': 0.2}, 'dataMapping': {'response': '${data.response}', 'ground_truth': '${data.ground_truth}'}}, 'meteor_score': {'id': 'azureai://built-in/evaluators/meteor_score', 'initParams': {'threshold': 0.4}, 'dataMapping': {'response': '${data.response}', 'ground_truth': '${data.ground_truth}'}}, 'similarity': {'id': 'azureai://built-in/evaluators/similarity', 'initParams': {'deployment_name': 'gpt-4.1-mini', 'threshold': 0.4}, 'dataMapping': {'query': '${data.query}', 'response': '${data.response}', 'ground_truth': '${data.ground_truth}'}}}, 'id': '11db8ded-f04b-4a85-abf9-9f79def0167f', 'displayName': 'Single Agent Eval 20250707135213', 'tags': {}, 'properties': {'runType': 'eval_run', '_azureml.evaluation_run': 'evaluation.service', '_azureml.evaluate_artifacts': '[{\"path\": \"instance_results.jsonl\", \"type\": \"table\"}]', 'AiStudioEvaluationUri': 'https://ai.azure.com/resource/build/evaluation/11db8ded-f04b-4a85-abf9-9f79def0167f?wsid=/subscriptions/6753a2ee-12b7-4fac-82fa-48824fb58abe/resourceGroups/rg-ai-sandbox-yw-uno/providers/Microsoft.CognitiveServices/accounts/foundry-proj-yw-uno-resource/projects/foundry-proj-yw-uno&tid=787eb5ff-f2ee-4965-8074-edbba3402c84', '_azureml.evaluation_name_map_length': '1', '_azureml.evaluation_name_map_0': '{\"relevance\":\"relevance\",\"violence\":\"violence\",\"bleu_score\":\"bleu_score\",\"f1_score\":\"f1_score\",\"meteor_score\":\"meteor_score\",\"similarity\":\"similarity\"}'}, 'status': 'Failed', 'outputs': {'evaluationResultId': 'azureai://accounts/foundry-proj-yw-uno-resource/projects/foundry-proj-yw-uno/evaluationresults/eval-result-11db8ded-f04b-4a85-abf9-9f79def0167f-EBTC/versions/1', 'evaluationMetrics': '{}'}, 'systemData': {'createdAt': '07/07/2025 12:05:29 +00:00', 'createdBy': 'Yingding Wang', 'modifiedBy': 'Yingding Wang'}}\n",
      "{'data': None, 'target': None, 'description': '', 'evaluators': {'relevance': {'id': 'azureai://built-in/evaluators/relevance', 'initParams': {'deployment_name': 'gpt-4.1-mini'}, 'dataMapping': {'query': '${data.query}', 'response': '${data.response}'}}, 'violence': {'id': 'azureai://built-in/evaluators/violence', 'initParams': {'azure_ai_project': 'https://foundry-proj-yw-uno-resource.services.ai.azure.com/api/projects/foundry-proj-yw-uno'}, 'dataMapping': {}}, 'bleu_score': {'id': 'azureai://built-in/evaluators/bleu_score', 'initParams': {'threshold': 0.01}, 'dataMapping': {'response': '${data.response}', 'ground_truth': '${data.ground_truth}'}}, 'f1_score': {'id': 'azureai://built-in/evaluators/f1_score', 'initParams': {'threshold': 0.2}, 'dataMapping': {'response': '${data.response}', 'ground_truth': '${data.ground_truth}'}}, 'meteor_score': {'id': 'azureai://built-in/evaluators/meteor_score', 'initParams': {'deployment_name': 'gpt-4.1-mini', 'threshold': 0.4}, 'dataMapping': {'response': '${data.response}', 'ground_truth': '${data.ground_truth}'}}, 'similarity': {'id': 'azureai://built-in/evaluators/similarity', 'initParams': {'threshold': 0.4}, 'dataMapping': {'query': '${data.query}', 'response': '${data.response}', 'ground_truth': '${data.ground_truth}'}}}, 'id': '099b9729-a381-4f4c-b632-7bfa580b409c', 'displayName': 'Single Agent Eval 20250707135213', 'tags': {}, 'properties': {'runType': 'eval_run', '_azureml.evaluation_run': 'evaluation.service', '_azureml.evaluate_artifacts': '[{\"path\": \"instance_results.jsonl\", \"type\": \"table\"}]', 'AiStudioEvaluationUri': 'https://ai.azure.com/resource/build/evaluation/099b9729-a381-4f4c-b632-7bfa580b409c?wsid=/subscriptions/6753a2ee-12b7-4fac-82fa-48824fb58abe/resourceGroups/rg-ai-sandbox-yw-uno/providers/Microsoft.CognitiveServices/accounts/foundry-proj-yw-uno-resource/projects/foundry-proj-yw-uno&tid=787eb5ff-f2ee-4965-8074-edbba3402c84', '_azureml.evaluation_name_map_length': '1', '_azureml.evaluation_name_map_0': '{\"relevance\":\"relevance\",\"violence\":\"violence\",\"bleu_score\":\"bleu_score\",\"f1_score\":\"f1_score\",\"meteor_score\":\"meteor_score\",\"similarity\":\"similarity\"}'}, 'status': 'Failed', 'outputs': {'evaluationResultId': 'azureai://accounts/foundry-proj-yw-uno-resource/projects/foundry-proj-yw-uno/evaluationresults/eval-result-099b9729-a381-4f4c-b632-7bfa580b409c-HDQJ/versions/1', 'evaluationMetrics': '{}'}, 'systemData': {'createdAt': '07/07/2025 12:04:59 +00:00', 'createdBy': 'Yingding Wang', 'modifiedBy': 'Yingding Wang'}}\n",
      "{'data': None, 'target': None, 'description': '', 'evaluators': {'relevance': {'id': 'azureai://built-in/evaluators/relevance', 'initParams': {'deployment_name': 'gpt-4.1-mini'}, 'dataMapping': {'query': '${data.query}', 'response': '${data.response}'}}, 'violence': {'id': 'azureai://built-in/evaluators/violence', 'initParams': {'azure_ai_project': 'https://foundry-proj-yw-uno-resource.services.ai.azure.com/api/projects/foundry-proj-yw-uno'}, 'dataMapping': {}}, 'bleu_score': {'id': 'azureai://built-in/evaluators/bleu_score', 'initParams': {'threshold': 0.01}, 'dataMapping': {'response': '${data.response}', 'ground_truth': '${data.ground_truth}'}}, 'f1_score': {'id': 'azureai://built-in/evaluators/f1_score', 'initParams': {'threshold': 0.01}, 'dataMapping': {'response': '${data.response}', 'ground_truth': '${data.ground_truth}'}}}, 'id': 'd8f06453-f457-43e7-a7ff-04a2f6aa2b11', 'displayName': 'Single Agent Eval 20250707135213', 'tags': {}, 'properties': {'runType': 'eval_run', '_azureml.evaluation_run': 'evaluation.service', '_azureml.evaluate_artifacts': '[{\"path\": \"instance_results.jsonl\", \"type\": \"table\"}]', 'AiStudioEvaluationUri': 'https://ai.azure.com/resource/build/evaluation/d8f06453-f457-43e7-a7ff-04a2f6aa2b11?wsid=/subscriptions/6753a2ee-12b7-4fac-82fa-48824fb58abe/resourceGroups/rg-ai-sandbox-yw-uno/providers/Microsoft.CognitiveServices/accounts/foundry-proj-yw-uno-resource/projects/foundry-proj-yw-uno&tid=787eb5ff-f2ee-4965-8074-edbba3402c84', '_azureml.evaluation_name_map_length': '1', '_azureml.evaluation_name_map_0': '{\"relevance\":\"relevance\",\"violence\":\"violence\",\"bleu_score\":\"bleu_score\",\"f1_score\":\"f1_score\"}'}, 'status': 'Completed', 'outputs': {'evaluationResultId': 'azureai://accounts/foundry-proj-yw-uno-resource/projects/foundry-proj-yw-uno/evaluationresults/eval-result-d8f06453-f457-43e7-a7ff-04a2f6aa2b11-RCMO/versions/1', 'evaluationMetrics': '{\"relevance.relevance\":4.0,\"relevance.gpt_relevance\":4.0,\"relevance.relevance_threshold\":3.0,\"violence.violence_threshold\":3.0,\"bleu_score.bleu_score\":0.0715236835,\"bleu_score.bleu_threshold\":0.01,\"f1_score.f1_score\":0.3571428571,\"f1_score.f1_threshold\":0.01,\"violence.violence_defect_rate\":0.0,\"relevance.binary_aggregate\":1.0,\"violence.binary_aggregate\":1.0,\"bleu_score.binary_aggregate\":0.0,\"f1_score.binary_aggregate\":0.0}'}, 'systemData': {'createdAt': '07/07/2025 11:57:25 +00:00', 'createdBy': 'Yingding Wang', 'modifiedBy': 'Yingding Wang'}}\n",
      "{'data': None, 'target': None, 'description': '', 'evaluators': {'relevance': {'id': 'azureai://built-in/evaluators/relevance', 'initParams': {'deployment_name': 'gpt-4.1-mini'}, 'dataMapping': {'query': '${data.query}', 'response': '${data.response}'}}, 'violence': {'id': 'azureai://built-in/evaluators/violence', 'initParams': {'azure_ai_project': 'https://foundry-proj-yw-uno-resource.services.ai.azure.com/api/projects/foundry-proj-yw-uno'}, 'dataMapping': {}}, 'bleu_score': {'id': 'azureai://built-in/evaluators/bleu_score', 'initParams': {'bleu_threshold': 0.1}, 'dataMapping': {'response': '${data.response}', 'ground_truth': '${data.ground_truth}'}}, 'f1_score': {'id': 'azureai://built-in/evaluators/f1_score', 'initParams': {'f1_threshold': 0.1}, 'dataMapping': {'response': '${data.response}', 'ground_truth': '${data.ground_truth}'}}}, 'id': '5fae450a-9e64-458d-8bc8-64d8f9cbb345', 'displayName': 'Single Agent Eval 20250707135213', 'tags': {}, 'properties': {'runType': 'eval_run', '_azureml.evaluation_run': 'evaluation.service', '_azureml.evaluate_artifacts': '[{\"path\": \"instance_results.jsonl\", \"type\": \"table\"}]', 'AiStudioEvaluationUri': 'https://ai.azure.com/resource/build/evaluation/5fae450a-9e64-458d-8bc8-64d8f9cbb345?wsid=/subscriptions/6753a2ee-12b7-4fac-82fa-48824fb58abe/resourceGroups/rg-ai-sandbox-yw-uno/providers/Microsoft.CognitiveServices/accounts/foundry-proj-yw-uno-resource/projects/foundry-proj-yw-uno&tid=787eb5ff-f2ee-4965-8074-edbba3402c84', '_azureml.evaluation_name_map_length': '1', '_azureml.evaluation_name_map_0': '{\"relevance\":\"relevance\",\"violence\":\"violence\",\"bleu_score\":\"bleu_score\",\"f1_score\":\"f1_score\"}'}, 'status': 'Failed', 'outputs': {'evaluationResultId': 'azureai://accounts/foundry-proj-yw-uno-resource/projects/foundry-proj-yw-uno/evaluationresults/eval-result-5fae450a-9e64-458d-8bc8-64d8f9cbb345-GKLU/versions/1', 'evaluationMetrics': '{}'}, 'systemData': {'createdAt': '07/07/2025 11:56:17 +00:00', 'createdBy': 'Yingding Wang', 'modifiedBy': 'Yingding Wang'}}\n",
      "{'data': None, 'target': None, 'description': '', 'evaluators': {'relevance': {'id': 'azureai://built-in/evaluators/relevance', 'initParams': {'deployment_name': 'gpt-4.1-mini'}, 'dataMapping': {'query': '${data.query}', 'response': '${data.response}'}}, 'violence': {'id': 'azureai://built-in/evaluators/violence', 'initParams': {'azure_ai_project': 'https://foundry-proj-yw-uno-resource.services.ai.azure.com/api/projects/foundry-proj-yw-uno'}, 'dataMapping': {}}, 'bleu_score': {'id': 'azureai://built-in/evaluators/bleu_score', 'initParams': {'threshold': 0.1}, 'dataMapping': {'response': '${data.response}', 'ground_truth': '${data.ground_truth}'}}, 'f1_score': {'id': 'azureai://built-in/evaluators/f1_score', 'initParams': {'threshold': 0.1}, 'dataMapping': {'response': '${data.response}', 'ground_truth': '${data.ground_truth}'}}}, 'id': 'a03712d0-f2cb-4a1d-b9d5-84d746b964ca', 'displayName': 'Single Agent Eval 20250707135213', 'tags': {}, 'properties': {'runType': 'eval_run', '_azureml.evaluation_run': 'evaluation.service', '_azureml.evaluate_artifacts': '[{\"path\": \"instance_results.jsonl\", \"type\": \"table\"}]', 'AiStudioEvaluationUri': 'https://ai.azure.com/resource/build/evaluation/a03712d0-f2cb-4a1d-b9d5-84d746b964ca?wsid=/subscriptions/6753a2ee-12b7-4fac-82fa-48824fb58abe/resourceGroups/rg-ai-sandbox-yw-uno/providers/Microsoft.CognitiveServices/accounts/foundry-proj-yw-uno-resource/projects/foundry-proj-yw-uno&tid=787eb5ff-f2ee-4965-8074-edbba3402c84', '_azureml.evaluation_name_map_length': '1', '_azureml.evaluation_name_map_0': '{\"relevance\":\"relevance\",\"violence\":\"violence\",\"bleu_score\":\"bleu_score\",\"f1_score\":\"f1_score\"}'}, 'status': 'Completed', 'outputs': {'evaluationResultId': 'azureai://accounts/foundry-proj-yw-uno-resource/projects/foundry-proj-yw-uno/evaluationresults/eval-result-a03712d0-f2cb-4a1d-b9d5-84d746b964ca-SJYX/versions/1', 'evaluationMetrics': '{\"relevance.relevance\":4.0,\"relevance.gpt_relevance\":4.0,\"relevance.relevance_threshold\":3.0,\"violence.violence_threshold\":3.0,\"bleu_score.bleu_score\":0.0715236835,\"bleu_score.bleu_threshold\":0.1,\"f1_score.f1_score\":0.3571428571,\"f1_score.f1_threshold\":0.1,\"violence.violence_defect_rate\":0.0,\"relevance.binary_aggregate\":1.0,\"violence.binary_aggregate\":1.0,\"bleu_score.binary_aggregate\":0.0,\"f1_score.binary_aggregate\":0.0}'}, 'systemData': {'createdAt': '07/07/2025 11:53:26 +00:00', 'createdBy': 'Yingding Wang', 'modifiedBy': 'Yingding Wang'}}\n",
      "{'data': None, 'target': None, 'description': '', 'evaluators': {'relevance': {'id': 'azureai://built-in/evaluators/relevance', 'initParams': {'deployment_name': 'gpt-4.1-mini'}, 'dataMapping': {'query': '${data.query}', 'response': '${data.response}'}}, 'violence': {'id': 'azureai://built-in/evaluators/violence', 'initParams': {'azure_ai_project': 'https://foundry-proj-yw-uno-resource.services.ai.azure.com/api/projects/foundry-proj-yw-uno'}, 'dataMapping': {}}, 'bleu_score': {'id': 'azureai://built-in/evaluators/bleu_score', 'initParams': {'threshold': 0.3}, 'dataMapping': {'response': '${data.response}', 'ground_truth': '${data.ground_truth}'}}, 'f1_score': {'id': 'azureai://built-in/evaluators/f1_score', 'initParams': {'threshold': 0.5}, 'dataMapping': {'response': '${data.response}', 'ground_truth': '${data.ground_truth}'}}}, 'id': '6b02aeae-5410-466e-a7f1-ecbec2a06e9a', 'displayName': 'Single Agent Eval 20250707135213', 'tags': {}, 'properties': {'runType': 'eval_run', '_azureml.evaluation_run': 'evaluation.service', '_azureml.evaluate_artifacts': '[{\"path\": \"instance_results.jsonl\", \"type\": \"table\"}]', 'AiStudioEvaluationUri': 'https://ai.azure.com/resource/build/evaluation/6b02aeae-5410-466e-a7f1-ecbec2a06e9a?wsid=/subscriptions/6753a2ee-12b7-4fac-82fa-48824fb58abe/resourceGroups/rg-ai-sandbox-yw-uno/providers/Microsoft.CognitiveServices/accounts/foundry-proj-yw-uno-resource/projects/foundry-proj-yw-uno&tid=787eb5ff-f2ee-4965-8074-edbba3402c84', '_azureml.evaluation_name_map_length': '1', '_azureml.evaluation_name_map_0': '{\"relevance\":\"relevance\",\"violence\":\"violence\",\"bleu_score\":\"bleu_score\",\"f1_score\":\"f1_score\"}'}, 'status': 'Completed', 'outputs': {'evaluationResultId': 'azureai://accounts/foundry-proj-yw-uno-resource/projects/foundry-proj-yw-uno/evaluationresults/eval-result-6b02aeae-5410-466e-a7f1-ecbec2a06e9a-LGJM/versions/1', 'evaluationMetrics': '{\"relevance.relevance\":4.0,\"relevance.gpt_relevance\":4.0,\"relevance.relevance_threshold\":3.0,\"violence.violence_threshold\":3.0,\"bleu_score.bleu_score\":0.0715236835,\"bleu_score.bleu_threshold\":0.30000000000000004,\"f1_score.f1_score\":0.3571428571,\"f1_score.f1_threshold\":0.5,\"violence.violence_defect_rate\":0.0,\"relevance.binary_aggregate\":1.0,\"violence.binary_aggregate\":1.0,\"bleu_score.binary_aggregate\":0.0,\"f1_score.binary_aggregate\":0.0}'}, 'systemData': {'createdAt': '07/07/2025 11:52:21 +00:00', 'createdBy': 'Yingding Wang', 'modifiedBy': 'Yingding Wang'}}\n",
      "{'data': None, 'target': None, 'description': '', 'evaluators': {'relevance': {'id': 'azureai://built-in/evaluators/relevance', 'initParams': {'deployment_name': 'gpt-4.1-mini'}, 'dataMapping': {'query': '${data.query}', 'response': '${data.response}'}}, 'violence': {'id': 'azureai://built-in/evaluators/violence', 'initParams': {'azure_ai_project': 'https://foundry-proj-yw-uno-resource.services.ai.azure.com/api/projects/foundry-proj-yw-uno'}, 'dataMapping': {}}, 'bleu_score': {'id': 'azureai://built-in/evaluators/bleu_score', 'initParams': {'threshold': 0.3}, 'dataMapping': {'response': '${data.response}', 'ground_truth': '${data.ground_truth}'}}, 'f1_score': {'id': 'azureai://built-in/evaluators/f1_score', 'initParams': {'threshold': 0.5}, 'dataMapping': {'response': '${data.response}', 'ground_truth': '${data.ground_truth}'}}}, 'id': 'a413385c-a039-4dcb-9ec2-a003d5fcd71d', 'displayName': 'Single Agent Eval 20250707132440', 'tags': {}, 'properties': {'runType': 'eval_run', '_azureml.evaluation_run': 'evaluation.service', '_azureml.evaluate_artifacts': '[{\"path\": \"instance_results.jsonl\", \"type\": \"table\"}]', 'AiStudioEvaluationUri': 'https://ai.azure.com/resource/build/evaluation/a413385c-a039-4dcb-9ec2-a003d5fcd71d?wsid=/subscriptions/6753a2ee-12b7-4fac-82fa-48824fb58abe/resourceGroups/rg-ai-sandbox-yw-uno/providers/Microsoft.CognitiveServices/accounts/foundry-proj-yw-uno-resource/projects/foundry-proj-yw-uno&tid=787eb5ff-f2ee-4965-8074-edbba3402c84', '_azureml.evaluation_name_map_length': '1', '_azureml.evaluation_name_map_0': '{\"relevance\":\"relevance\",\"violence\":\"violence\",\"bleu_score\":\"bleu_score\",\"f1_score\":\"f1_score\"}'}, 'status': 'Completed', 'outputs': {'evaluationResultId': 'azureai://accounts/foundry-proj-yw-uno-resource/projects/foundry-proj-yw-uno/evaluationresults/eval-result-a413385c-a039-4dcb-9ec2-a003d5fcd71d-AWHU/versions/1', 'evaluationMetrics': '{\"relevance.relevance\":4.0,\"relevance.gpt_relevance\":4.0,\"relevance.relevance_threshold\":3.0,\"violence.violence_threshold\":3.0,\"bleu_score.bleu_score\":0.0715236835,\"bleu_score.bleu_threshold\":0.30000000000000004,\"f1_score.f1_score\":0.3571428571,\"f1_score.f1_threshold\":0.5,\"violence.violence_defect_rate\":0.0,\"relevance.binary_aggregate\":1.0,\"violence.binary_aggregate\":1.0,\"bleu_score.binary_aggregate\":0.0,\"f1_score.binary_aggregate\":0.0}'}, 'systemData': {'createdAt': '07/07/2025 11:49:29 +00:00', 'createdBy': 'Yingding Wang', 'modifiedBy': 'Yingding Wang'}}\n",
      "{'data': None, 'target': None, 'description': '', 'evaluators': {'relevance': {'id': 'azureai://built-in/evaluators/relevance', 'initParams': {'deployment_name': 'gpt-4.1-mini'}, 'dataMapping': {'query': '${data.query}', 'response': '${data.response}'}}, 'violence': {'id': 'azureai://built-in/evaluators/violence', 'initParams': {'azure_ai_project': 'https://foundry-proj-yw-uno-resource.services.ai.azure.com/api/projects/foundry-proj-yw-uno'}, 'dataMapping': {}}, 'bleu_score': {'id': 'azureai://built-in/evaluators/bleu_score', 'initParams': {}, 'dataMapping': {'response': '${data.response}', 'ground_truth': '${data.ground_truth}'}}, 'f1_score': {'id': 'azureai://built-in/evaluators/f1_score', 'initParams': {}, 'dataMapping': {'response': '${data.response}', 'ground_truth': '${data.ground_truth}'}}}, 'id': '65b2a597-b0b4-4b7e-9640-d70a1f12efb2', 'displayName': 'Single Agent Eval 20250707132440', 'tags': {}, 'properties': {'runType': 'eval_run', '_azureml.evaluation_run': 'evaluation.service', '_azureml.evaluate_artifacts': '[{\"path\": \"instance_results.jsonl\", \"type\": \"table\"}]', 'AiStudioEvaluationUri': 'https://ai.azure.com/resource/build/evaluation/65b2a597-b0b4-4b7e-9640-d70a1f12efb2?wsid=/subscriptions/6753a2ee-12b7-4fac-82fa-48824fb58abe/resourceGroups/rg-ai-sandbox-yw-uno/providers/Microsoft.CognitiveServices/accounts/foundry-proj-yw-uno-resource/projects/foundry-proj-yw-uno&tid=787eb5ff-f2ee-4965-8074-edbba3402c84', '_azureml.evaluation_name_map_length': '1', '_azureml.evaluation_name_map_0': '{\"relevance\":\"relevance\",\"violence\":\"violence\",\"bleu_score\":\"bleu_score\",\"f1_score\":\"f1_score\"}'}, 'status': 'Completed', 'outputs': {'evaluationResultId': 'azureai://accounts/foundry-proj-yw-uno-resource/projects/foundry-proj-yw-uno/evaluationresults/eval-result-65b2a597-b0b4-4b7e-9640-d70a1f12efb2-RGHA/versions/1', 'evaluationMetrics': '{\"relevance.relevance\":4.0,\"relevance.gpt_relevance\":4.0,\"relevance.relevance_threshold\":3.0,\"violence.violence_threshold\":3.0,\"bleu_score.bleu_score\":0.0715236835,\"bleu_score.bleu_threshold\":0.5,\"f1_score.f1_score\":0.3571428571,\"f1_score.f1_threshold\":0.5,\"violence.violence_defect_rate\":0.0,\"relevance.binary_aggregate\":1.0,\"violence.binary_aggregate\":1.0,\"bleu_score.binary_aggregate\":0.0,\"f1_score.binary_aggregate\":0.0}'}, 'systemData': {'createdAt': '07/07/2025 11:45:41 +00:00', 'createdBy': 'Yingding Wang', 'modifiedBy': 'Yingding Wang'}}\n",
      "{'data': None, 'target': None, 'description': '', 'evaluators': {'relevance': {'id': 'azureai://built-in/evaluators/relevance', 'initParams': {'deployment_name': 'gpt-4.1-mini'}, 'dataMapping': {'query': '${data.query}', 'response': '${data.response}'}}, 'violence': {'id': 'azureai://built-in/evaluators/violence', 'initParams': {'azure_ai_project': 'https://foundry-proj-yw-uno-resource.services.ai.azure.com/api/projects/foundry-proj-yw-uno'}, 'dataMapping': {}}, 'bleu_score': {'id': 'azureai://built-in/evaluators/bleu_score', 'initParams': {}, 'dataMapping': {}}, 'f1_score': {'id': 'azureai://built-in/evaluators/f1_score', 'initParams': {}, 'dataMapping': {}}}, 'id': '0e709f79-b42b-4f9f-82f3-66208963ee4b', 'displayName': 'Single Agent Eval 20250707132440', 'tags': {}, 'properties': {'runType': 'eval_run', '_azureml.evaluation_run': 'evaluation.service', '_azureml.evaluate_artifacts': '[{\"path\": \"instance_results.jsonl\", \"type\": \"table\"}]', 'AiStudioEvaluationUri': 'https://ai.azure.com/resource/build/evaluation/0e709f79-b42b-4f9f-82f3-66208963ee4b?wsid=/subscriptions/6753a2ee-12b7-4fac-82fa-48824fb58abe/resourceGroups/rg-ai-sandbox-yw-uno/providers/Microsoft.CognitiveServices/accounts/foundry-proj-yw-uno-resource/projects/foundry-proj-yw-uno&tid=787eb5ff-f2ee-4965-8074-edbba3402c84', '_azureml.evaluation_name_map_length': '1', '_azureml.evaluation_name_map_0': '{\"relevance\":\"relevance\",\"violence\":\"violence\",\"bleu_score\":\"bleu_score\",\"f1_score\":\"f1_score\"}'}, 'status': 'Completed', 'outputs': {'evaluationResultId': 'azureai://accounts/foundry-proj-yw-uno-resource/projects/foundry-proj-yw-uno/evaluationresults/eval-result-0e709f79-b42b-4f9f-82f3-66208963ee4b-FSPK/versions/1', 'evaluationMetrics': '{\"relevance.relevance\":4.0,\"relevance.gpt_relevance\":4.0,\"relevance.relevance_threshold\":3.0,\"violence.violence_threshold\":3.0,\"bleu_score.bleu_score\":0.0715236835,\"bleu_score.bleu_threshold\":0.5,\"f1_score.f1_score\":0.3571428571,\"f1_score.f1_threshold\":0.5,\"violence.violence_defect_rate\":0.0,\"relevance.binary_aggregate\":1.0,\"violence.binary_aggregate\":1.0,\"bleu_score.binary_aggregate\":0.0,\"f1_score.binary_aggregate\":0.0}'}, 'systemData': {'createdAt': '07/07/2025 11:42:01 +00:00', 'createdBy': 'Yingding Wang', 'modifiedBy': 'Yingding Wang'}}\n",
      "{'data': None, 'target': None, 'description': '', 'evaluators': {'relevance': {'id': 'azureai://built-in/evaluators/relevance', 'initParams': {'deployment_name': 'gpt-4.1-mini'}, 'dataMapping': {'query': '${data.query}', 'response': '${data.response}'}}, 'violence': {'id': 'azureai://built-in/evaluators/violence', 'initParams': {'azure_ai_project': 'https://foundry-proj-yw-uno-resource.services.ai.azure.com/api/projects/foundry-proj-yw-uno'}, 'dataMapping': {}}, 'bleu_score': {'id': 'azureai://built-in/evaluators/bleu_score', 'initParams': {}, 'dataMapping': {'query': '${data.query}', 'response': '${data.response}'}}}, 'id': '62b07f12-0d8d-49ad-9e2a-cba23852f91c', 'displayName': 'Single Agent Eval 20250707132440', 'tags': {}, 'properties': {'runType': 'eval_run', '_azureml.evaluation_run': 'evaluation.service', '_azureml.evaluate_artifacts': '[{\"path\": \"instance_results.jsonl\", \"type\": \"table\"}]', 'AiStudioEvaluationUri': 'https://ai.azure.com/resource/build/evaluation/62b07f12-0d8d-49ad-9e2a-cba23852f91c?wsid=/subscriptions/6753a2ee-12b7-4fac-82fa-48824fb58abe/resourceGroups/rg-ai-sandbox-yw-uno/providers/Microsoft.CognitiveServices/accounts/foundry-proj-yw-uno-resource/projects/foundry-proj-yw-uno&tid=787eb5ff-f2ee-4965-8074-edbba3402c84', '_azureml.evaluation_name_map_length': '1', '_azureml.evaluation_name_map_0': '{\"relevance\":\"relevance\",\"violence\":\"violence\",\"bleu_score\":\"bleu_score\"}'}, 'status': 'Completed', 'outputs': {'evaluationResultId': 'azureai://accounts/foundry-proj-yw-uno-resource/projects/foundry-proj-yw-uno/evaluationresults/eval-result-62b07f12-0d8d-49ad-9e2a-cba23852f91c-BCRM/versions/1', 'evaluationMetrics': '{\"relevance.relevance\":4.0,\"relevance.gpt_relevance\":4.0,\"relevance.relevance_threshold\":3.0,\"violence.violence_threshold\":3.0,\"violence.violence_defect_rate\":0.0,\"relevance.binary_aggregate\":1.0,\"violence.binary_aggregate\":1.0}'}, 'systemData': {'createdAt': '07/07/2025 11:31:46 +00:00', 'createdBy': 'Yingding Wang', 'modifiedBy': 'Yingding Wang'}}\n",
      "{'data': None, 'target': None, 'description': '', 'evaluators': {'relevance': {'id': 'azureai://built-in/evaluators/relevance', 'initParams': {'deployment_name': 'gpt-4.1-mini'}, 'dataMapping': {'query': '${data.query}', 'response': '${data.response}'}}, 'violence': {'id': 'azureai://built-in/evaluators/violence', 'initParams': {'azure_ai_project': 'https://foundry-proj-yw-uno-resource.services.ai.azure.com/api/projects/foundry-proj-yw-uno'}, 'dataMapping': {}}, 'bleu_score': {'id': 'azureai://built-in/evaluators/bleu_score', 'initParams': {}, 'dataMapping': {}}}, 'id': '53a4db95-b537-40d3-aafc-b7bb9c6ae8ea', 'displayName': 'Single Agent Eval 20250707132440', 'tags': {}, 'properties': {'runType': 'eval_run', '_azureml.evaluation_run': 'evaluation.service', '_azureml.evaluate_artifacts': '[{\"path\": \"instance_results.jsonl\", \"type\": \"table\"}]', 'AiStudioEvaluationUri': 'https://ai.azure.com/resource/build/evaluation/53a4db95-b537-40d3-aafc-b7bb9c6ae8ea?wsid=/subscriptions/6753a2ee-12b7-4fac-82fa-48824fb58abe/resourceGroups/rg-ai-sandbox-yw-uno/providers/Microsoft.CognitiveServices/accounts/foundry-proj-yw-uno-resource/projects/foundry-proj-yw-uno&tid=787eb5ff-f2ee-4965-8074-edbba3402c84', '_azureml.evaluation_name_map_length': '1', '_azureml.evaluation_name_map_0': '{\"relevance\":\"relevance\",\"violence\":\"violence\",\"bleu_score\":\"bleu_score\"}'}, 'status': 'Completed', 'outputs': {'evaluationResultId': 'azureai://accounts/foundry-proj-yw-uno-resource/projects/foundry-proj-yw-uno/evaluationresults/eval-result-53a4db95-b537-40d3-aafc-b7bb9c6ae8ea-DLPC/versions/1', 'evaluationMetrics': '{\"relevance.relevance\":4.0,\"relevance.gpt_relevance\":4.0,\"relevance.relevance_threshold\":3.0,\"violence.violence_threshold\":3.0,\"bleu_score.bleu_score\":0.0715236835,\"bleu_score.bleu_threshold\":0.5,\"violence.violence_defect_rate\":0.0,\"relevance.binary_aggregate\":1.0,\"violence.binary_aggregate\":1.0,\"bleu_score.binary_aggregate\":0.0}'}, 'systemData': {'createdAt': '07/07/2025 11:30:49 +00:00', 'createdBy': 'Yingding Wang', 'modifiedBy': 'Yingding Wang'}}\n",
      "{'data': None, 'target': None, 'description': '', 'evaluators': {'relevance': {'id': 'azureai://built-in/evaluators/relevance', 'initParams': {'deployment_name': 'gpt-4.1-mini'}, 'dataMapping': {'query': '${data.query}', 'response': '${data.response}'}}, 'violence': {'id': 'azureai://built-in/evaluators/violence', 'initParams': {'azure_ai_project': 'https://foundry-proj-yw-uno-resource.services.ai.azure.com/api/projects/foundry-proj-yw-uno'}, 'dataMapping': {}}, 'bleu_score': {'id': 'azureai://built-in/evaluators/bleu_score', 'initParams': {}, 'dataMapping': {}}, 'text_similarity': {'id': 'azureai://built-in/evaluators/similarity', 'initParams': {'deployment_name': 'gpt-4.1-mini'}, 'dataMapping': {'query': '${data.query}', 'response': '${data.response}'}}}, 'id': 'cb3b1da3-3756-484b-ada0-a207cafac57d', 'displayName': 'Single Agent Eval 20250707132440', 'tags': {}, 'properties': {'runType': 'eval_run', '_azureml.evaluation_run': 'evaluation.service', '_azureml.evaluate_artifacts': '[{\"path\": \"instance_results.jsonl\", \"type\": \"table\"}]', 'AiStudioEvaluationUri': 'https://ai.azure.com/resource/build/evaluation/cb3b1da3-3756-484b-ada0-a207cafac57d?wsid=/subscriptions/6753a2ee-12b7-4fac-82fa-48824fb58abe/resourceGroups/rg-ai-sandbox-yw-uno/providers/Microsoft.CognitiveServices/accounts/foundry-proj-yw-uno-resource/projects/foundry-proj-yw-uno&tid=787eb5ff-f2ee-4965-8074-edbba3402c84', '_azureml.evaluation_name_map_length': '1', '_azureml.evaluation_name_map_0': '{\"relevance\":\"relevance\",\"violence\":\"violence\",\"bleu_score\":\"bleu_score\",\"text_similarity\":\"similarity\"}'}, 'status': 'Failed', 'outputs': {'evaluationResultId': 'azureai://accounts/foundry-proj-yw-uno-resource/projects/foundry-proj-yw-uno/evaluationresults/eval-result-cb3b1da3-3756-484b-ada0-a207cafac57d-MEUL/versions/1', 'evaluationMetrics': '{}'}, 'systemData': {'createdAt': '07/07/2025 11:29:42 +00:00', 'createdBy': 'Yingding Wang', 'modifiedBy': 'Yingding Wang'}}\n",
      "{'data': None, 'target': None, 'description': '', 'evaluators': {'relevance': {'id': 'azureai://built-in/evaluators/relevance', 'initParams': {'deployment_name': 'gpt-4.1-mini'}, 'dataMapping': {'query': '${data.query}', 'response': '${data.response}'}}, 'violence': {'id': 'azureai://built-in/evaluators/violence', 'initParams': {'azure_ai_project': 'https://foundry-proj-yw-uno-resource.services.ai.azure.com/api/projects/foundry-proj-yw-uno'}, 'dataMapping': {}}, 'bleu_score': {'id': 'azureai://built-in/evaluators/bleu_score', 'initParams': {'deployment_name': 'gpt-4.1-mini'}, 'dataMapping': {'query': '${data.query}', 'response': '${data.response}'}}, 'text_similarity': {'id': 'azureai://built-in/evaluators/similarity', 'initParams': {'deployment_name': 'gpt-4.1-mini'}, 'dataMapping': {'query': '${data.query}', 'response': '${data.response}'}}}, 'id': '93352980-b0e4-44fe-9646-b04c00efb63b', 'displayName': 'Single Agent Eval 20250707132440', 'tags': {}, 'properties': {'runType': 'eval_run', '_azureml.evaluation_run': 'evaluation.service', '_azureml.evaluate_artifacts': '[{\"path\": \"instance_results.jsonl\", \"type\": \"table\"}]', 'AiStudioEvaluationUri': 'https://ai.azure.com/resource/build/evaluation/93352980-b0e4-44fe-9646-b04c00efb63b?wsid=/subscriptions/6753a2ee-12b7-4fac-82fa-48824fb58abe/resourceGroups/rg-ai-sandbox-yw-uno/providers/Microsoft.CognitiveServices/accounts/foundry-proj-yw-uno-resource/projects/foundry-proj-yw-uno&tid=787eb5ff-f2ee-4965-8074-edbba3402c84', '_azureml.evaluation_name_map_length': '1', '_azureml.evaluation_name_map_0': '{\"relevance\":\"relevance\",\"violence\":\"violence\",\"bleu_score\":\"bleu_score\",\"text_similarity\":\"similarity\"}'}, 'status': 'Failed', 'outputs': {'evaluationResultId': 'azureai://accounts/foundry-proj-yw-uno-resource/projects/foundry-proj-yw-uno/evaluationresults/eval-result-93352980-b0e4-44fe-9646-b04c00efb63b-UZLJ/versions/1', 'evaluationMetrics': '{}'}, 'systemData': {'createdAt': '07/07/2025 11:24:47 +00:00', 'createdBy': 'Yingding Wang', 'modifiedBy': 'Yingding Wang'}}\n",
      "{'data': None, 'target': None, 'description': '', 'evaluators': {'relevance': {'id': 'azureai://built-in/evaluators/relevance', 'initParams': {'deployment_name': 'gpt-4.1-mini'}, 'dataMapping': {'query': '${data.query}', 'response': '${data.response}'}}, 'violence': {'id': 'azureai://built-in/evaluators/violence', 'initParams': {'azure_ai_project': 'https://foundry-proj-yw-uno-resource.services.ai.azure.com/api/projects/foundry-proj-yw-uno'}, 'dataMapping': {}}, 'bleu_score': {'id': 'azureai://built-in/evaluators/bleu_score', 'initParams': {}, 'dataMapping': {}}}, 'id': '1a06685f-e2fc-48ca-80e7-1941eab1e9c1', 'displayName': 'Single Agent Eval 20250707130907', 'tags': {}, 'properties': {'runType': 'eval_run', '_azureml.evaluation_run': 'evaluation.service', '_azureml.evaluate_artifacts': '[{\"path\": \"instance_results.jsonl\", \"type\": \"table\"}]', 'AiStudioEvaluationUri': 'https://ai.azure.com/resource/build/evaluation/1a06685f-e2fc-48ca-80e7-1941eab1e9c1?wsid=/subscriptions/6753a2ee-12b7-4fac-82fa-48824fb58abe/resourceGroups/rg-ai-sandbox-yw-uno/providers/Microsoft.CognitiveServices/accounts/foundry-proj-yw-uno-resource/projects/foundry-proj-yw-uno&tid=787eb5ff-f2ee-4965-8074-edbba3402c84', '_azureml.evaluation_name_map_length': '1', '_azureml.evaluation_name_map_0': '{\"relevance\":\"relevance\",\"violence\":\"violence\",\"bleu_score\":\"bleu_score\"}'}, 'status': 'Completed', 'outputs': {'evaluationResultId': 'azureai://accounts/foundry-proj-yw-uno-resource/projects/foundry-proj-yw-uno/evaluationresults/eval-result-1a06685f-e2fc-48ca-80e7-1941eab1e9c1-NIPW/versions/1', 'evaluationMetrics': '{\"relevance.relevance\":4.0,\"relevance.gpt_relevance\":4.0,\"relevance.relevance_threshold\":3.0,\"violence.violence_threshold\":3.0,\"bleu_score.bleu_score\":0.0715236835,\"bleu_score.bleu_threshold\":0.5,\"violence.violence_defect_rate\":0.0,\"relevance.binary_aggregate\":1.0,\"violence.binary_aggregate\":1.0,\"bleu_score.binary_aggregate\":0.0}'}, 'systemData': {'createdAt': '07/07/2025 11:15:21 +00:00', 'createdBy': 'Yingding Wang', 'modifiedBy': 'Yingding Wang'}}\n",
      "{'data': None, 'target': None, 'description': '', 'evaluators': {'relevance': {'id': 'azureai://built-in/evaluators/relevance', 'initParams': {'deployment_name': 'gpt-4.1-mini'}, 'dataMapping': {'query': '${data.query}', 'response': '${data.response}'}}, 'violence': {'id': 'azureai://built-in/evaluators/violence', 'initParams': {'azure_ai_project': 'https://foundry-proj-yw-uno-resource.services.ai.azure.com/api/projects/foundry-proj-yw-uno'}, 'dataMapping': {}}, 'bleu_score': {'id': 'azureai://built-in/evaluators/bleu_score', 'initParams': {}, 'dataMapping': {}}}, 'id': '07737e85-c7a5-4ba2-9af9-15f584a2e63a', 'displayName': 'Single Agent Eval {timestamp}', 'tags': {}, 'properties': {'runType': 'eval_run', '_azureml.evaluation_run': 'evaluation.service', '_azureml.evaluate_artifacts': '[{\"path\": \"instance_results.jsonl\", \"type\": \"table\"}]', 'AiStudioEvaluationUri': 'https://ai.azure.com/resource/build/evaluation/07737e85-c7a5-4ba2-9af9-15f584a2e63a?wsid=/subscriptions/6753a2ee-12b7-4fac-82fa-48824fb58abe/resourceGroups/rg-ai-sandbox-yw-uno/providers/Microsoft.CognitiveServices/accounts/foundry-proj-yw-uno-resource/projects/foundry-proj-yw-uno&tid=787eb5ff-f2ee-4965-8074-edbba3402c84', '_azureml.evaluation_name_map_length': '1', '_azureml.evaluation_name_map_0': '{\"relevance\":\"relevance\",\"violence\":\"violence\",\"bleu_score\":\"bleu_score\"}'}, 'status': 'Completed', 'outputs': {'evaluationResultId': 'azureai://accounts/foundry-proj-yw-uno-resource/projects/foundry-proj-yw-uno/evaluationresults/eval-result-07737e85-c7a5-4ba2-9af9-15f584a2e63a-EOIN/versions/1', 'evaluationMetrics': '{\"relevance.relevance\":4.0,\"relevance.gpt_relevance\":4.0,\"relevance.relevance_threshold\":3.0,\"violence.violence_threshold\":3.0,\"bleu_score.bleu_score\":0.0715236835,\"bleu_score.bleu_threshold\":0.5,\"violence.violence_defect_rate\":0.0,\"relevance.binary_aggregate\":1.0,\"violence.binary_aggregate\":1.0,\"bleu_score.binary_aggregate\":0.0}'}, 'systemData': {'createdAt': '07/07/2025 11:13:53 +00:00', 'createdBy': 'Yingding Wang', 'modifiedBy': 'Yingding Wang'}}\n",
      "{'data': None, 'target': None, 'description': '', 'evaluators': {'relevance': {'id': 'azureai://built-in/evaluators/relevance', 'initParams': {'deployment_name': 'gpt-4.1-mini'}, 'dataMapping': {'query': '${data.query}', 'response': '${data.response}'}}, 'violence': {'id': 'azureai://built-in/evaluators/violence', 'initParams': {'azure_ai_project': 'https://foundry-proj-yw-uno-resource.services.ai.azure.com/api/projects/foundry-proj-yw-uno'}, 'dataMapping': {}}, 'bleu_score': {'id': 'azureai://built-in/evaluators/bleu_score', 'initParams': {}, 'dataMapping': {}}}, 'id': 'bbfed39c-1d4b-46eb-a4cf-a365dfbe6793', 'displayName': 'Single Agent Eval {timestamp}', 'tags': {}, 'properties': {'runType': 'eval_run', '_azureml.evaluation_run': 'evaluation.service', '_azureml.evaluate_artifacts': '[{\"path\": \"instance_results.jsonl\", \"type\": \"table\"}]', 'AiStudioEvaluationUri': 'https://ai.azure.com/resource/build/evaluation/bbfed39c-1d4b-46eb-a4cf-a365dfbe6793?wsid=/subscriptions/6753a2ee-12b7-4fac-82fa-48824fb58abe/resourceGroups/rg-ai-sandbox-yw-uno/providers/Microsoft.CognitiveServices/accounts/foundry-proj-yw-uno-resource/projects/foundry-proj-yw-uno&tid=787eb5ff-f2ee-4965-8074-edbba3402c84', '_azureml.evaluation_name_map_length': '1', '_azureml.evaluation_name_map_0': '{\"relevance\":\"relevance\",\"violence\":\"violence\",\"bleu_score\":\"bleu_score\"}'}, 'status': 'Completed', 'outputs': {'evaluationResultId': 'azureai://accounts/foundry-proj-yw-uno-resource/projects/foundry-proj-yw-uno/evaluationresults/eval-result-bbfed39c-1d4b-46eb-a4cf-a365dfbe6793-WQIB/versions/1', 'evaluationMetrics': '{\"relevance.relevance\":4.0,\"relevance.gpt_relevance\":4.0,\"relevance.relevance_threshold\":3.0,\"violence.violence_threshold\":3.0,\"bleu_score.bleu_score\":0.0715236835,\"bleu_score.bleu_threshold\":0.5,\"violence.violence_defect_rate\":0.0,\"relevance.binary_aggregate\":1.0,\"violence.binary_aggregate\":1.0,\"bleu_score.binary_aggregate\":0.0}'}, 'systemData': {'createdAt': '07/07/2025 11:11:06 +00:00', 'createdBy': 'Yingding Wang', 'modifiedBy': 'Yingding Wang'}}\n",
      "{'data': None, 'target': None, 'description': '', 'evaluators': {'relevance': {'id': 'azureai://built-in/evaluators/relevance', 'initParams': {'deployment_name': 'gpt-4.1-mini'}, 'dataMapping': {'query': '${data.query}', 'response': '${data.response}'}}, 'violence': {'id': 'azureai://built-in/evaluators/violence', 'initParams': {'azure_ai_project': 'https://foundry-proj-yw-uno-resource.services.ai.azure.com/api/projects/foundry-proj-yw-uno'}, 'dataMapping': {}}, 'bleu_score': {'id': 'azureai://built-in/evaluators/bleu_score', 'initParams': {}, 'dataMapping': {}}}, 'id': 'ac6d27d8-7409-4188-bef4-493f6fd16ec9', 'displayName': 'Sample Evaluation Test', 'tags': {}, 'properties': {'runType': 'eval_run', '_azureml.evaluation_run': 'evaluation.service', '_azureml.evaluate_artifacts': '[{\"path\": \"instance_results.jsonl\", \"type\": \"table\"}]', 'AiStudioEvaluationUri': 'https://ai.azure.com/resource/build/evaluation/ac6d27d8-7409-4188-bef4-493f6fd16ec9?wsid=/subscriptions/6753a2ee-12b7-4fac-82fa-48824fb58abe/resourceGroups/rg-ai-sandbox-yw-uno/providers/Microsoft.CognitiveServices/accounts/foundry-proj-yw-uno-resource/projects/foundry-proj-yw-uno&tid=787eb5ff-f2ee-4965-8074-edbba3402c84', '_azureml.evaluation_name_map_length': '1', '_azureml.evaluation_name_map_0': '{\"relevance\":\"relevance\",\"violence\":\"violence\",\"bleu_score\":\"bleu_score\"}'}, 'status': 'Completed', 'outputs': {'evaluationResultId': 'azureai://accounts/foundry-proj-yw-uno-resource/projects/foundry-proj-yw-uno/evaluationresults/eval-result-ac6d27d8-7409-4188-bef4-493f6fd16ec9-TQBQ/versions/1', 'evaluationMetrics': '{\"relevance.relevance\":3.0,\"relevance.gpt_relevance\":3.0,\"relevance.relevance_threshold\":3.0,\"violence.violence_threshold\":3.0,\"bleu_score.bleu_score\":0.0785921323,\"bleu_score.bleu_threshold\":0.5,\"violence.violence_defect_rate\":0.0,\"relevance.binary_aggregate\":1.0,\"violence.binary_aggregate\":1.0,\"bleu_score.binary_aggregate\":0.0}'}, 'systemData': {'createdAt': '06/27/2025 18:54:52 +00:00', 'createdBy': 'Yingding Wang', 'modifiedBy': 'Yingding Wang'}}\n",
      "{'data': None, 'target': None, 'description': '', 'evaluators': {'Groundedness': {'id': 'azureai://built-in/evaluators/groundedness', 'initParams': {'deployment_name': 'gpt-4.1-mini', 'threshold': 3}, 'dataMapping': {'context': '${data.context}', 'query': '${data.query}', 'response': '${data.response}'}}, 'Sexual': {'id': 'azureai://built-in/evaluators/sexual', 'initParams': {'azure_ai_project': {'resource_group_name': '', 'project_name': '', 'subscription_id': ''}, 'threshold': 4}, 'dataMapping': {'query': '${data.query}', 'response': '${data.response}'}}}, 'id': '11e00ee7-588f-48bb-91b3-19bfb61eaf5a', 'displayName': 'evaluation_test2', 'tags': {}, 'properties': {'evaluationType': '', 'runType': 'eval_run', '_azureml.evaluation_run': 'evaluation.service', '_azureml.evaluate_artifacts': '[{\"path\": \"instance_results.jsonl\", \"type\": \"table\"}]', 'AiStudioEvaluationUri': 'https://ai.azure.com/resource/build/evaluation/11e00ee7-588f-48bb-91b3-19bfb61eaf5a?wsid=/subscriptions/6753a2ee-12b7-4fac-82fa-48824fb58abe/resourceGroups/rg-ai-sandbox-yw-uno/providers/Microsoft.CognitiveServices/accounts/foundry-proj-yw-uno-resource/projects/foundry-proj-yw-uno&tid=787eb5ff-f2ee-4965-8074-edbba3402c84', '_azureml.evaluation_name_map_length': '1', '_azureml.evaluation_name_map_0': '{\"Groundedness\":\"groundedness\",\"Sexual\":\"sexual\"}'}, 'status': 'Completed', 'outputs': {'evaluationResultId': 'azureai://accounts/foundry-proj-yw-uno-resource/projects/foundry-proj-yw-uno/evaluationresults/eval-result-11e00ee7-588f-48bb-91b3-19bfb61eaf5a-KMHO/versions/1', 'evaluationMetrics': '{\"Groundedness.groundedness\":5.0,\"Groundedness.gpt_groundedness\":5.0,\"Groundedness.groundedness_threshold\":3.0,\"Sexual.sexual_threshold\":4.0,\"Sexual.sexual_defect_rate\":0.0,\"Groundedness.binary_aggregate\":1.0,\"Sexual.binary_aggregate\":1.0}'}, 'systemData': {'createdAt': '06/25/2025 22:01:33 +00:00', 'createdBy': 'Yingding Wang', 'modifiedBy': 'Yingding Wang'}}\n",
      "{'data': None, 'target': None, 'description': '', 'evaluators': {'Groundedness': {'id': 'azureai://built-in/evaluators/groundedness', 'initParams': {'deployment_name': 'gpt-4.1-mini', 'threshold': 3}, 'dataMapping': {'context': '${data.context}', 'query': '${data.query}', 'response': '${data.response}'}}, 'Violence': {'id': 'azureai://built-in/evaluators/violence', 'initParams': {'azure_ai_project': {'resource_group_name': '', 'project_name': '', 'subscription_id': ''}, 'threshold': 4}, 'dataMapping': {'query': '${data.query}', 'response': '${data.response}'}}}, 'id': '6220f2c6-cf01-45e6-af83-f2297f606e35', 'displayName': 'evaluation_yw_first_test_eval', 'tags': {}, 'properties': {'evaluationType': '', 'runType': 'eval_run', '_azureml.evaluation_run': 'evaluation.service', '_azureml.evaluate_artifacts': '[{\"path\": \"instance_results.jsonl\", \"type\": \"table\"}]', 'AiStudioEvaluationUri': 'https://ai.azure.com/resource/build/evaluation/6220f2c6-cf01-45e6-af83-f2297f606e35?wsid=/subscriptions/6753a2ee-12b7-4fac-82fa-48824fb58abe/resourceGroups/rg-ai-sandbox-yw-uno/providers/Microsoft.CognitiveServices/accounts/foundry-proj-yw-uno-resource/projects/foundry-proj-yw-uno&tid=787eb5ff-f2ee-4965-8074-edbba3402c84', '_azureml.evaluation_name_map_length': '1', '_azureml.evaluation_name_map_0': '{\"Groundedness\":\"groundedness\",\"Violence\":\"violence\"}'}, 'status': 'Completed', 'outputs': {'evaluationResultId': 'azureai://accounts/foundry-proj-yw-uno-resource/projects/foundry-proj-yw-uno/evaluationresults/eval-result-6220f2c6-cf01-45e6-af83-f2297f606e35-ABOA/versions/1', 'evaluationMetrics': '{\"Groundedness.groundedness\":5.0,\"Groundedness.gpt_groundedness\":5.0,\"Groundedness.groundedness_threshold\":3.0,\"Violence.violence_threshold\":4.0,\"Violence.violence_defect_rate\":0.0,\"Groundedness.binary_aggregate\":1.0,\"Violence.binary_aggregate\":1.0}'}, 'systemData': {'createdAt': '06/25/2025 21:38:53 +00:00', 'createdBy': 'Yingding Wang', 'modifiedBy': 'Yingding Wang'}}\n"
     ]
    }
   ],
   "source": [
    "print(\"Create an evaluation task\")\n",
    "evaluation: Evaluation = Evaluation(\n",
    "    display_name=f\"Single Agent Eval {timestamp}\",\n",
    "    description=\"Evaluation for seattle tourist agent\",\n",
    "    # Sample Dataset Id : azureai://accounts/<account_name>/projects/<project_name>/data/<dataset_name>/versions/<version>\n",
    "    data=InputDataset(id=dataset.id if dataset.id else \"\"),\n",
    "    evaluators={\n",
    "        \"relevance\": EvaluatorConfiguration(\n",
    "            id=EvaluatorIds.RELEVANCE.value,\n",
    "            init_params={\n",
    "                \"deployment_name\": settings.model_deployment_name,\n",
    "            },\n",
    "            data_mapping={\n",
    "                \"query\": \"${data.query}\",\n",
    "                \"response\": \"${data.response}\",\n",
    "            },\n",
    "        ),\n",
    "        \"violence\": EvaluatorConfiguration(\n",
    "            id=EvaluatorIds.VIOLENCE.value,\n",
    "            init_params={\n",
    "                \"azure_ai_project\": settings.project_endpoint,\n",
    "            },\n",
    "        ),\n",
    "        \"bleu_score\": EvaluatorConfiguration(\n",
    "            id=EvaluatorIds.BLEU_SCORE.value,\n",
    "            init_params={\n",
    "                \"threshold\": 0.01,\n",
    "            },\n",
    "            data_mapping={\n",
    "                \"response\": \"${data.response}\",\n",
    "                \"ground_truth\": \"${data.ground_truth}\",\n",
    "            },\n",
    "        ),\n",
    "        \"f1_score\": EvaluatorConfiguration(\n",
    "            id=EvaluatorIds.F1_SCORE.value,\n",
    "            init_params={\n",
    "                \"threshold\": 0.2,\n",
    "            },\n",
    "            data_mapping={\n",
    "                \"response\": \"${data.response}\",\n",
    "                \"ground_truth\": \"${data.ground_truth}\",\n",
    "            },\n",
    "        ),\n",
    "        \"meteor_score\": EvaluatorConfiguration(\n",
    "            id=EvaluatorIds.METEOR_SCORE.value,\n",
    "            init_params={\n",
    "                \"threshold\": 0.4,\n",
    "            },\n",
    "            data_mapping={\n",
    "                \"response\": \"${data.response}\",\n",
    "                \"ground_truth\": \"${data.ground_truth}\",\n",
    "            },\n",
    "        ),\n",
    "    },\n",
    ")\n",
    "\n",
    "# Use the model endpoint and API key as AI Evaluator to run the evaluation\n",
    "evaluation_response: Evaluation = project_client.evaluations.create(\n",
    "    evaluation,\n",
    "    headers={\n",
    "        \"model-endpoint\": settings.azure_openai_endpoint,\n",
    "        \"api-key\": settings.azure_openai_api_key,\n",
    "    },\n",
    ")\n",
    "print(evaluation_response)\n",
    "\n",
    "print(\"Get evaluation\")\n",
    "get_evaluation_response: Evaluation = project_client.evaluations.get(evaluation_response.name)\n",
    "\n",
    "print(get_evaluation_response)\n",
    "\n",
    "print(\"List evaluations\")\n",
    "for evaluation in project_client.evaluations.list():\n",
    "    print(evaluation)"
   ]
  },
  {
   "cell_type": "code",
   "execution_count": 14,
   "metadata": {},
   "outputs": [
    {
     "name": "stdout",
     "output_type": "stream",
     "text": [
      "List all evaluations in the project\n",
      "Evaluation ID: Single Agent Eval 20250707135213\n",
      "Evaluation ID: Single Agent Eval 20250707135213\n",
      "Evaluation ID: Single Agent Eval 20250707135213\n",
      "Evaluation ID: Single Agent Eval 20250707135213\n",
      "Evaluation ID: Single Agent Eval 20250707135213\n",
      "Evaluation ID: Single Agent Eval 20250707135213\n",
      "Evaluation ID: Single Agent Eval 20250707135213\n",
      "Evaluation ID: Single Agent Eval 20250707135213\n",
      "Evaluation ID: Single Agent Eval 20250707132440\n",
      "Evaluation ID: Single Agent Eval 20250707132440\n",
      "Evaluation ID: Single Agent Eval 20250707132440\n",
      "Evaluation ID: Single Agent Eval 20250707132440\n",
      "Evaluation ID: Single Agent Eval 20250707132440\n",
      "Evaluation ID: Single Agent Eval 20250707132440\n",
      "Evaluation ID: Single Agent Eval 20250707132440\n",
      "Evaluation ID: Single Agent Eval 20250707130907\n",
      "Evaluation ID: Single Agent Eval {timestamp}\n",
      "Evaluation ID: Single Agent Eval {timestamp}\n",
      "Evaluation ID: Sample Evaluation Test\n",
      "Evaluation ID: evaluation_test2\n",
      "Evaluation ID: evaluation_test2\n",
      "Evaluation ID: evaluation_yw_first_test_eval\n"
     ]
    }
   ],
   "source": [
    "# List all evaluation runs in the project\n",
    "print(\"List all evaluations in the project\")\n",
    "eval_list = project_client.evaluations.list()\n",
    "for eval_item in eval_list:\n",
    "    print(f\"Evaluation ID: {eval_item.display_name}\")"
   ]
  },
  {
   "cell_type": "markdown",
   "metadata": {},
   "source": [
    "### Foundry Project Evaluation Metric Dashboard\n",
    "\n",
    "1. Login to `https://ai.azure.com/`\n",
    "2. choose your Foundry Project\n",
    "3. Open the `Evaluation` menu item\n",
    "4. choose an evaluation run to see metric dashboard\n",
    "\n",
    "![](imgs/cloud_eval_metric_dashboard.png)"
   ]
  }
 ],
 "metadata": {
  "kernelspec": {
   "display_name": "azfdydemo3.12pip",
   "language": "python",
   "name": "python3"
  },
  "language_info": {
   "codemirror_mode": {
    "name": "ipython",
    "version": 3
   },
   "file_extension": ".py",
   "mimetype": "text/x-python",
   "name": "python",
   "nbconvert_exporter": "python",
   "pygments_lexer": "ipython3",
   "version": "3.12.10"
  }
 },
 "nbformat": 4,
 "nbformat_minor": 2
}
