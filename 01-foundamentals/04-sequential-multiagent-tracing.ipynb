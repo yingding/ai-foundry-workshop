{
 "cells": [
  {
   "cell_type": "markdown",
   "id": "e160620a",
   "metadata": {},
   "source": [
    "## Sequential Multi-Agent Tracing Sample\n",
    "\n",
    "Sample of tracking using OpenTelemetry with Azure Foundry Agent Services"
   ]
  },
  {
   "cell_type": "markdown",
   "id": "0d2f45bf",
   "metadata": {},
   "source": [
    "### Setup Foundry Project Client"
   ]
  },
  {
   "cell_type": "code",
   "execution_count": 80,
   "id": "cb19575c",
   "metadata": {},
   "outputs": [
    {
     "name": "stdout",
     "output_type": "stream",
     "text": [
      "Environment and authentication OK\n"
     ]
    }
   ],
   "source": [
    "from typing import Any, Callable, Set, List\n",
    "import re\n",
    "import os\n",
    "import time\n",
    "import json\n",
    "from azure.ai.projects import AIProjectClient\n",
    "from azure.ai.agents.telemetry import trace_function\n",
    "from azure.ai.agents.models import (\n",
    "    FunctionTool,\n",
    "    RequiredFunctionToolCall,\n",
    "    SubmitToolOutputsAction,\n",
    "    ToolOutput,\n",
    "    ThreadMessage,\n",
    "    MessageRole,\n",
    ")\n",
    "import azure.ai.agents as agentslib\n",
    "import azure.ai.projects as projectslib\n",
    "from opentelemetry import trace\n",
    "from azure.monitor.opentelemetry import configure_azure_monitor\n",
    "from dotenv import load_dotenv, find_dotenv\n",
    "\n",
    "# Your custom Python functions (for \"fetch_datetime\", etc.)\n",
    "from utils.enterprise_functions import enterprise_fns\n",
    "\n",
    "load_dotenv(dotenv_path=\".env\", override=True)\n",
    "\n",
    "from utils.fdyauth import AuthHelper\n",
    "settings = AuthHelper.load_settings()\n",
    "credential = AuthHelper.test_credential()\n",
    "\n",
    "if credential:\n",
    "    print('Environment and authentication OK')\n",
    "else:\n",
    "    print(\"please login first\")"
   ]
  },
  {
   "cell_type": "code",
   "execution_count": 81,
   "id": "0e5317a3",
   "metadata": {},
   "outputs": [
    {
     "name": "stdout",
     "output_type": "stream",
     "text": [
      "project_client api version: 2025-05-15-preview\n",
      "azure-ai-agents version: 1.1.0b3\n",
      "azure-ai-projects version: 1.0.0b12\n"
     ]
    }
   ],
   "source": [
    "# new AI Foundry Project resource endpoint / old azure ai services endpoint from the hub/project\n",
    "project_client = AIProjectClient(\n",
    "    credential=credential,\n",
    "    endpoint=settings.project_endpoint,\n",
    "    # api_version=os.environ[\"PROJECT_API_VERSION\"]\n",
    ")\n",
    "print(\"project_client api version:\", project_client._config.api_version)\n",
    "print(f\"azure-ai-agents version: {agentslib.__version__}\")\n",
    "print(f\"azure-ai-projects version: {projectslib.__version__}\")"
   ]
  },
  {
   "cell_type": "markdown",
   "id": "07d29579",
   "metadata": {},
   "source": [
    "### Enable Azure Monitor Tracking\n",
    "\n",
    "* get application insights connection string from the foundry project"
   ]
  },
  {
   "cell_type": "code",
   "execution_count": 82,
   "id": "acb1d1db",
   "metadata": {},
   "outputs": [],
   "source": [
    "# Enable Azure Monitor tracing geting the app insight connection string\n",
    "application_insights_connection_string = project_client.telemetry.get_connection_string()\n",
    "if not application_insights_connection_string:\n",
    "    print(\"Application Insights was not enabled for this project.\")\n",
    "    print(\"Enable it via the 'Tracing' tab in your AI Foundry project page.\")\n",
    "    exit()\n",
    "configure_azure_monitor(connection_string=application_insights_connection_string)"
   ]
  },
  {
   "cell_type": "code",
   "execution_count": 83,
   "id": "822dd15b",
   "metadata": {},
   "outputs": [
    {
     "name": "stdout",
     "output_type": "stream",
     "text": [
      "using scenario: tracking_multiagent_scenario\n",
      "using tracer: <opentelemetry.sdk.trace.Tracer object at 0x0000026F653E51C0>\n"
     ]
    }
   ],
   "source": [
    "scenario = \"tracking_multiagent_scenario\"\n",
    "# scenario = os.path.basename(__file__)\n",
    "tracer = trace.get_tracer(__name__)\n",
    "\n",
    "print(\"using scenario:\", scenario)\n",
    "print(\"using tracer:\", tracer)"
   ]
  },
  {
   "cell_type": "markdown",
   "id": "977edc6b",
   "metadata": {},
   "source": [
    "### Set up the trace_function\n",
    "\n",
    "* adding custom function trace to the OpenTelemetry by using decorator"
   ]
  },
  {
   "cell_type": "code",
   "execution_count": 84,
   "id": "e3de7c5c",
   "metadata": {},
   "outputs": [],
   "source": [
    "@trace_function()\n",
    "def fetch_weather(location: str) -> str:\n",
    "    \"\"\"\n",
    "    Fetches the weather information for the specified location.\n",
    "\n",
    "    :param location (str): The location to fetch weather for.\n",
    "    :return: Weather information as a JSON string.\n",
    "    :rtype: str\n",
    "    \"\"\"\n",
    "    mock_weather_data = {\"New York\": \"Sunny, 25°C\", \"London\": \"Cloudy, 18°C\", \"Tokyo\": \"Rainy, 22°C\"}\n",
    "\n",
    "    # Adding attributes to the current span\n",
    "    span = trace.get_current_span()\n",
    "    span.set_attribute(\"requested_location\", location)\n",
    "\n",
    "    weather = mock_weather_data.get(location, \"Weather data not available for this location.\")\n",
    "    weather_json = json.dumps({\"weather\": weather})\n",
    "    return weather_json\n",
    "\n",
    "@trace_function()\n",
    "def convert_temperature(temperature: str) -> str:\n",
    "    \"\"\"\n",
    "    Converts temperature between Celsius and Fahrenheit.\n",
    "    \n",
    "    :param temperature: Temperature string in format \"25°C\" or \"77°F\"\n",
    "    :return: Converted temperature as JSON string\n",
    "    :rtype: str\n",
    "    \"\"\"\n",
    "    span = trace.get_current_span()\n",
    "    span.set_attribute(\"input_temperature\", temperature)\n",
    "    \n",
    "    try:\n",
    "        value = float(''.join(filter(str.isdigit, temperature)))\n",
    "        unit = 'C' if '°C' in temperature else 'F'\n",
    "        \n",
    "        if unit == 'C':\n",
    "            converted = (value * 9/5) + 32\n",
    "            result = f\"{converted:.1f}°F\"\n",
    "        else:\n",
    "            converted = (value - 32) * 5/9\n",
    "            result = f\"{converted:.1f}°C\"\n",
    "            \n",
    "        return json.dumps({\"converted_temperature\": result})\n",
    "    except Exception as e:\n",
    "        return json.dumps({\"error\": f\"Failed to convert temperature: {str(e)}\"})"
   ]
  },
  {
   "cell_type": "code",
   "execution_count": 85,
   "id": "cc5ff96b",
   "metadata": {},
   "outputs": [],
   "source": [
    "def check_for_celsius_in_messages(messages: List[ThreadMessage]) -> bool:\n",
    "    \"\"\"Helper function to check if any message contains a Celsius temperature\"\"\"\n",
    "    for msg in messages:\n",
    "        # print(f\"msg type is {type(msg)}\")\n",
    "        try:\n",
    "            # msg.context is a list , only checking the return message from the agent\n",
    "            if hasattr(msg, 'role') and isinstance(msg.role, str) and msg.role == MessageRole.AGENT \\\n",
    "            and hasattr(msg, 'content') and '°C' in msg.content[0].text.value:    \n",
    "                # re.compile(r'\\b\\d+°C\\b'): # '°C' in msg.content:\n",
    "                print(msg.content[0].text.value)\n",
    "                return True\n",
    "        except AttributeError:\n",
    "            continue\n",
    "    return False"
   ]
  },
  {
   "cell_type": "code",
   "execution_count": 86,
   "id": "8dc41f43",
   "metadata": {},
   "outputs": [],
   "source": [
    "def print_messages(messages: List[ThreadMessage]) -> None:\n",
    "    \"\"\"Helper function to print messages\"\"\"\n",
    "    for message in messages:\n",
    "        print(f\"Role: {message.role}\")\n",
    "        print(f\"Content: {message.content[0].text.value}\")\n",
    "        print(\"-\" * 40)"
   ]
  },
  {
   "cell_type": "code",
   "execution_count": 87,
   "id": "b958fb82",
   "metadata": {},
   "outputs": [],
   "source": [
    "# messages = project_client.agents.messages.list(thread_id=\"thread_Qp8oJRJEHSBvhraZ7IHzFSC7\")\n",
    "# result = check_for_celsius_in_messages(messages)\n",
    "# print(\"Celsius found in messages:\", result)"
   ]
  },
  {
   "cell_type": "code",
   "execution_count": 88,
   "id": "3985f70e",
   "metadata": {},
   "outputs": [],
   "source": [
    "def process_agent_run(thread_id: str, run_id: str, functions: FunctionTool) -> None:\n",
    "    \"\"\"Helper function to process an agent run and handle tool calls\"\"\"\n",
    "    run = project_client.agents.runs.get(thread_id=thread_id, run_id=run_id)\n",
    "    \n",
    "    while run.status in [\"queued\", \"in_progress\", \"requires_action\"]:\n",
    "        time.sleep(1)\n",
    "        run = project_client.agents.runs.get(thread_id=thread_id, run_id=run_id)\n",
    "        if run.status == \"requires_action\" and isinstance(run.required_action, SubmitToolOutputsAction):\n",
    "            tool_calls = run.required_action.submit_tool_outputs.tool_calls\n",
    "            if not tool_calls:\n",
    "                print(\"No tool calls provided - cancelling run\")\n",
    "                project_client.agents.runs.cancel(thread_id=thread_id, run_id=run_id)\n",
    "                break\n",
    "\n",
    "            tool_outputs = []\n",
    "            for tool_call in tool_calls:\n",
    "                if isinstance(tool_call, RequiredFunctionToolCall):\n",
    "                    try:\n",
    "                        output = functions.execute(tool_call)\n",
    "                        tool_outputs.append(\n",
    "                            ToolOutput(tool_call_id=tool_call.id, output=output)\n",
    "                        )\n",
    "                    except Exception as e:\n",
    "                        print(f\"Error executing tool_call {tool_call.id}: {e}\")\n",
    "\n",
    "            if tool_outputs:\n",
    "                project_client.agents.runs.submit_tool_outputs(\n",
    "                    thread_id=thread_id,\n",
    "                    run_id=run_id,\n",
    "                    tool_outputs=tool_outputs\n",
    "                )\n",
    "\n",
    "        print(f\"Current run status: {run.status}\")\n",
    "    \n",
    "    return run"
   ]
  },
  {
   "cell_type": "markdown",
   "id": "2fc1cfa0",
   "metadata": {},
   "source": [
    "### Setup agent functions"
   ]
  },
  {
   "cell_type": "code",
   "execution_count": 89,
   "id": "65babd29",
   "metadata": {},
   "outputs": [],
   "source": [
    "# Initialize functions\n",
    "user_functions: Set[Callable[..., Any]] = {fetch_weather, convert_temperature}\n",
    "functions = FunctionTool(functions=user_functions)"
   ]
  },
  {
   "cell_type": "markdown",
   "id": "5650e609",
   "metadata": {},
   "source": [
    "### Sequential Agent Runs inside Tracing Scope\n",
    "\n",
    "* Create two agents: weather assistant agent, and temperature conversion agent (Celsius and Fahrenheit)\n",
    "* first run the weather assistant agent\n",
    "* check output contains celsius, then run the temperature conversion agent subsequently\n",
    "* use the same thread for both agent, so that the agent see the whole history (not recommended)\n",
    "* return the messages from both agents run"
   ]
  },
  {
   "cell_type": "code",
   "execution_count": 90,
   "id": "bc8d72a5",
   "metadata": {},
   "outputs": [
    {
     "name": "stdout",
     "output_type": "stream",
     "text": [
      "Created weather agent, ID: asst_64kZlC7c7dZqXeCYGxLsP60G\n",
      "Created conversion agent, ID: asst_TeFNSHai3hQW8lNfmuROOvv6\n",
      "Created thread, ID: thread_iuARHaC80tF6sViDaKb5i5a6\n",
      "Created initial user message, ID: msg_Rt1B0XO4Jifb0oSU6sKN62Gn\n",
      "Started weather agent run, ID: run_FdqR2djpKRe28rQoG2jXukoM\n",
      "Current run status: RunStatus.REQUIRES_ACTION\n",
      "Current run status: RunStatus.COMPLETED\n",
      "Weather agent run completed with status: RunStatus.COMPLETED\n",
      "Total messages in thread: 2\n",
      "The weather in New York today is sunny with a temperature of 25°C. It's a lovely day to enjoy the outdoors! Is there anything else you'd like to know about the weather?\n",
      "Created conversion request message, ID: msg_kO4PBGDcC2cqzdFFOWFdFVGt\n",
      "Started conversion agent run, ID: run_B5NfzNwBksAFDRoF850okIq7\n",
      "Current run status: RunStatus.REQUIRES_ACTION\n",
      "Current run status: RunStatus.COMPLETED\n",
      "Conversion agent run completed with status: RunStatus.COMPLETED\n",
      "\n",
      "Full conversation:\n",
      "MessageRole.USER: [{'type': 'text', 'text': {'value': \"Can you tell me what the weather is like in New York today? I'd like to know the temperature in Celsius °C please.\", 'annotations': []}}]\n",
      "MessageRole.AGENT: [{'type': 'text', 'text': {'value': \"The weather in New York today is sunny with a temperature of 25°C. It's a lovely day to enjoy the outdoors! Is there anything else you'd like to know about the weather?\", 'annotations': []}}]\n",
      "MessageRole.USER: [{'type': 'text', 'text': {'value': 'Could you help convert this Celsius temperature to Fahrenheit so we can see both? Please explain the conversion.', 'annotations': []}}]\n",
      "MessageRole.AGENT: [{'type': 'text', 'text': {'value': 'Certainly! The temperature is 25°C in Celsius, which converts to 77.0°F in Fahrenheit.\\n\\nThe conversion from Celsius to Fahrenheit is done using the formula:\\n°F = (°C × 9/5) + 32\\n\\nSo for 25°C:\\n°F = (25 × 9/5) + 32 = 45 + 32 = 77°F\\n\\nThus, 25°C is equivalent to 77.0°F. Now you have both temperature scales to compare! Would you like me to help with anything else?', 'annotations': []}}]\n",
      "\n",
      "Cleaning up resources...\n",
      "Agents deleted successfully\n"
     ]
    }
   ],
   "source": [
    "with tracer.start_as_current_span(scenario):\n",
    "    with project_client:\n",
    "        # Create two agents with different roles\n",
    "        # Create the weather assistant agent\n",
    "        weather_agent = project_client.agents.create_agent(\n",
    "            model=settings.model_deployment_name,\n",
    "            name=\"weather-assistant\",\n",
    "#             instructions=\"\"\"You are a helpful weather assistant. Follow these steps:\n",
    "# 1. When asked about weather, politely acknowledge the request\n",
    "# 2. Use the fetch_weather function to get the weather information\n",
    "# 3. Present the weather information in a friendly, conversational way\n",
    "# 4. If the temperature is in Celsius, mention that you'll ask for a conversion to Fahrenheit\n",
    "# Be descriptive and natural in your responses.\"\"\",\n",
    "            instructions=\"\"\"You are a helpful weather assistant. Follow these steps:\n",
    "1. When asked about weather, politely acknowledge the request\n",
    "2. Use the fetch_weather function to get the weather information\n",
    "3. Present the weather information in a friendly, conversational way\n",
    "4. If the temperature is in Celsius, report back only the Celsius temperature\n",
    "Be descriptive and natural in your responses.\"\"\",\n",
    "            tools=functions.definitions,\n",
    "        )\n",
    "        print(f\"Created weather agent, ID: {weather_agent.id}\")\n",
    "\n",
    "        # Create the temperature conversion agent\n",
    "        conversion_agent = project_client.agents.create_agent(\n",
    "            model=settings.model_deployment_name,\n",
    "            name=\"conversion-assistant\",\n",
    "            instructions=\"\"\"You are a helpful temperature conversion assistant. Follow these steps:\n",
    "1. When asked to convert a temperature, acknowledge the request\n",
    "2. Extract the temperature value from the previous messages\n",
    "3. Use the convert_temperature function to perform the conversion\n",
    "4. Present both temperatures in a clear, friendly way\n",
    "Be detailed and explain the conversion clearly.\"\"\",\n",
    "            tools=functions.definitions,\n",
    "        )\n",
    "        print(f\"Created conversion agent, ID: {conversion_agent.id}\")\n",
    "\n",
    "        # Try block content for conversation display\n",
    "        try:\n",
    "            # Create a thread for the conversation\n",
    "            thread = project_client.agents.threads.create()\n",
    "            print(f\"Created thread, ID: {thread.id}\")\n",
    "\n",
    "            # User asks about weather with a clear request\n",
    "            message = project_client.agents.messages.create(\n",
    "                thread_id=thread.id,\n",
    "                role=\"user\",\n",
    "                # content=\"Can you tell me what the weather is like in New York today? I'd like to know the temperature in both Celsius and Fahrenheit, please.\",\n",
    "                content=\"Can you tell me what the weather is like in New York today? I'd like to know the temperature in Celsius °C please.\",\n",
    "            )\n",
    "            print(f\"Created initial user message, ID: {message.id}\")\n",
    "\n",
    "            # Start with the weather agent for the initial response\n",
    "            weather_run = project_client.agents.runs.create(\n",
    "                thread_id=thread.id,\n",
    "                agent_id=weather_agent.id\n",
    "            )\n",
    "            print(f\"Started weather agent run, ID: {weather_run.id}\")\n",
    "\n",
    "            # Process the weather agent's run\n",
    "            weather_run = process_agent_run(thread.id, weather_run.id, functions)\n",
    "            print(f\"Weather agent run completed with status: {weather_run.status}\")\n",
    "\n",
    "            # Check messages for Celsius temperatures\n",
    "            messages = list(project_client.agents.messages.list(thread_id=thread.id))\n",
    "            print(f\"Total messages in thread: {len(messages)}\")\n",
    "            # print_messages(messages)\n",
    "\n",
    "            if check_for_celsius_in_messages(messages):\n",
    "                \n",
    "                # Create a message for the conversion agent with context\n",
    "                conversion_msg = project_client.agents.messages.create(\n",
    "                    thread_id=thread.id,\n",
    "                    role=\"user\",\n",
    "                    content=\"Could you help convert this Celsius temperature to Fahrenheit so we can see both? Please explain the conversion.\"\n",
    "                )\n",
    "                print(f\"Created conversion request message, ID: {conversion_msg.id}\")\n",
    "\n",
    "                # Start the conversion agent's run\n",
    "                conversion_run = project_client.agents.runs.create(\n",
    "                    thread_id=thread.id,\n",
    "                    agent_id=conversion_agent.id\n",
    "                )\n",
    "                print(f\"Started conversion agent run, ID: {conversion_run.id}\")\n",
    "\n",
    "                # Process the conversion agent's run\n",
    "                conversion_run = process_agent_run(thread.id, conversion_run.id, functions)\n",
    "                print(f\"Conversion agent run completed with status: {conversion_run.status}\")\n",
    "\n",
    "            # Display the full conversation\n",
    "            print(\"\\nFull conversation:\")\n",
    "            final_messages = list(project_client.agents.messages.list(thread_id=thread.id))\n",
    "            # print_messages(final_messages)\n",
    "\n",
    "            final_messages.reverse()  # Show messages in chronological order\n",
    "            for msg in final_messages:\n",
    "                try:\n",
    "                    if hasattr(msg, 'content'):\n",
    "                        role = msg.role if hasattr(msg, 'role') else 'system'\n",
    "                        print(f\"{role}: {msg.content}\")\n",
    "                except Exception as e:\n",
    "                    print(f\"Error printing message: {e}\")\n",
    "\n",
    "        finally:\n",
    "            # Clean up resources\n",
    "            print(\"\\nCleaning up resources...\")\n",
    "            project_client.agents.delete_agent(weather_agent.id)\n",
    "            project_client.agents.delete_agent(conversion_agent.id)\n",
    "            print(\"Agents deleted successfully\")"
   ]
  }
 ],
 "metadata": {
  "kernelspec": {
   "display_name": "azfdydemo3.12pip",
   "language": "python",
   "name": "python3"
  },
  "language_info": {
   "codemirror_mode": {
    "name": "ipython",
    "version": 3
   },
   "file_extension": ".py",
   "mimetype": "text/x-python",
   "name": "python",
   "nbconvert_exporter": "python",
   "pygments_lexer": "ipython3",
   "version": "3.12.10"
  }
 },
 "nbformat": 4,
 "nbformat_minor": 5
}
