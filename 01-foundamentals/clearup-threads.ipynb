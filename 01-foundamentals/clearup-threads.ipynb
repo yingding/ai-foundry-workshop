{
 "cells": [
  {
   "cell_type": "markdown",
   "id": "22738336",
   "metadata": {},
   "source": [
    "## Show a warning for removing all the project threads"
   ]
  },
  {
   "cell_type": "code",
   "execution_count": 1,
   "id": "d124c67d",
   "metadata": {},
   "outputs": [
    {
     "ename": "Exception",
     "evalue": "You will remove all your project thread permanently.\nComment this line to proceed, if you know what you are doing!",
     "output_type": "error",
     "traceback": [
      "\u001b[31m---------------------------------------------------------------------------\u001b[39m",
      "\u001b[31mException\u001b[39m                                 Traceback (most recent call last)",
      "\u001b[36mCell\u001b[39m\u001b[36m \u001b[39m\u001b[32mIn[1]\u001b[39m\u001b[32m, line 1\u001b[39m\n\u001b[32m----> \u001b[39m\u001b[32m1\u001b[39m \u001b[38;5;28;01mraise\u001b[39;00m \u001b[38;5;167;01mException\u001b[39;00m(\u001b[33mf\u001b[39m\u001b[33m\"\u001b[39m\u001b[33mYou will remove all your project thread permanently.\u001b[39m\u001b[38;5;130;01m\\n\u001b[39;00m\u001b[33mComment this line to proceed, if you know what you are doing!\u001b[39m\u001b[33m\"\u001b[39m)\n",
      "\u001b[31mException\u001b[39m: You will remove all your project thread permanently.\nComment this line to proceed, if you know what you are doing!"
     ]
    }
   ],
   "source": [
    "raise Exception(f\"You will remove all your project thread permanently.\\nComment this line to proceed, if you know what you are doing!\")"
   ]
  },
  {
   "cell_type": "code",
   "execution_count": null,
   "id": "94b0f60d",
   "metadata": {},
   "outputs": [],
   "source": [
    "from dotenv import load_dotenv\n",
    "\n",
    "# load environment variables from .env file\n",
    "load_dotenv(dotenv_path=\".env\", override=True)\n",
    "\n",
    "from utils.auth import AuthHelper\n",
    "settings = AuthHelper.load_settings()\n",
    "credential = AuthHelper.test_credential()\n",
    "\n",
    "if credential:\n",
    "    print('Environment and authentication OK')\n",
    "else:\n",
    "    print(\"please login first\")"
   ]
  },
  {
   "cell_type": "code",
   "execution_count": null,
   "id": "fb18f4e6",
   "metadata": {},
   "outputs": [],
   "source": [
    "from azure.ai.projects import AIProjectClient\n",
    "from azure.core.exceptions import ResourceNotFoundError\n",
    "\n",
    "project_client = AIProjectClient(\n",
    "    credential=credential,\n",
    "    endpoint=settings.project_endpoint,\n",
    "    api_version=settings.project_api_version\n",
    ")\n",
    "print(\"project_client api version:\", project_client._config.api_version)"
   ]
  },
  {
   "cell_type": "code",
   "execution_count": null,
   "id": "47fbaad6",
   "metadata": {},
   "outputs": [],
   "source": [
    "threads = project_client.agents.threads.list()\n",
    "threads_count = 0\n",
    "for thread in threads:\n",
    "    threads_count += 1\n",
    "    print(f\"Thread ID: {thread.id}, Created At: {thread.created_at}\")"
   ]
  },
  {
   "cell_type": "code",
   "execution_count": null,
   "id": "dc7ac86b",
   "metadata": {},
   "outputs": [],
   "source": [
    "threads_count"
   ]
  },
  {
   "cell_type": "markdown",
   "id": "2f1c0b8c",
   "metadata": {},
   "source": [
    "### ResourceNotFoundError\n",
    "\n",
    "Note:\n",
    "* If the ResourceNotFoundError occurs, the notebook thread will be breaken, since there is an async raise in the sdk. You can not catch it.\n",
    "* Just rerun the code to clean the threads. The not available thread will be removed from list anyway."
   ]
  },
  {
   "cell_type": "code",
   "execution_count": null,
   "id": "80c56fc6",
   "metadata": {},
   "outputs": [],
   "source": [
    "threads = project_client.agents.threads.list()\n",
    "deleted_threads_count = 0\n",
    "not_found_count = 0\n",
    "\n",
    "for thread in threads:\n",
    "    try:\n",
    "        project_client.agents.threads.delete(thread.id)\n",
    "        deleted_threads_count += 1\n",
    "    except ResourceNotFoundError:\n",
    "        not_found_count += 1\n",
    "        print(f\"Thread not found (already deleted?): {thread.id}\")\n",
    "    except Exception as e:\n",
    "        print(f\"Failed to delete thread {thread.id}: {e}\")\n",
    "\n",
    "print(f\"Deleted threads: {deleted_threads_count}\")\n",
    "print(f\"Threads not found: {not_found_count}\")"
   ]
  },
  {
   "cell_type": "code",
   "execution_count": null,
   "id": "1a5bb025",
   "metadata": {},
   "outputs": [],
   "source": [
    "deleted_threads_count"
   ]
  }
 ],
 "metadata": {
  "kernelspec": {
   "display_name": "azmultiagents3.12pip",
   "language": "python",
   "name": "python3"
  },
  "language_info": {
   "codemirror_mode": {
    "name": "ipython",
    "version": 3
   },
   "file_extension": ".py",
   "mimetype": "text/x-python",
   "name": "python",
   "nbconvert_exporter": "python",
   "pygments_lexer": "ipython3",
   "version": "3.12.10"
  }
 },
 "nbformat": 4,
 "nbformat_minor": 5
}
